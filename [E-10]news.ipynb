{
 "cells": [
  {
   "cell_type": "code",
   "execution_count": 3,
   "id": "looking-courage",
   "metadata": {},
   "outputs": [],
   "source": [
    "import numpy as np\n",
    "import os\n",
    "import matplotlib.pyplot as plt\n",
    "import re\n",
    "from bs4 import BeautifulSoup \n",
    "from tensorflow.keras.preprocessing.text import Tokenizer \n",
    "from tensorflow.keras.preprocessing.sequence import pad_sequences\n",
    "import pandas as pd"
   ]
  },
  {
   "cell_type": "code",
   "execution_count": 4,
   "id": "classical-chase",
   "metadata": {},
   "outputs": [
    {
     "name": "stdout",
     "output_type": "stream",
     "text": [
      "전체 샘플수 : 98401\n"
     ]
    }
   ],
   "source": [
    "import urllib.request\n",
    "urllib.request.urlretrieve(\"https://raw.githubusercontent.com/sunnysai12345/News_Summary/master/news_summary_more.csv\", filename=\"news_summary_more.csv\")\n",
    "\n",
    "\n",
    "#데이터 읽어오기 \n",
    "data = pd.read_csv('news_summary_more.csv', encoding='iso-8859-1', nrows=100000)\n",
    "print('전체 샘플수 :', (len(data)))"
   ]
  },
  {
   "cell_type": "code",
   "execution_count": 5,
   "id": "stone-africa",
   "metadata": {},
   "outputs": [
    {
     "name": "stdout",
     "output_type": "stream",
     "text": [
      "Index(['headlines', 'text'], dtype='object')\n"
     ]
    },
    {
     "data": {
      "text/html": [
       "<div>\n",
       "<style scoped>\n",
       "    .dataframe tbody tr th:only-of-type {\n",
       "        vertical-align: middle;\n",
       "    }\n",
       "\n",
       "    .dataframe tbody tr th {\n",
       "        vertical-align: top;\n",
       "    }\n",
       "\n",
       "    .dataframe thead th {\n",
       "        text-align: right;\n",
       "    }\n",
       "</style>\n",
       "<table border=\"1\" class=\"dataframe\">\n",
       "  <thead>\n",
       "    <tr style=\"text-align: right;\">\n",
       "      <th></th>\n",
       "      <th>text</th>\n",
       "      <th>headlines</th>\n",
       "    </tr>\n",
       "  </thead>\n",
       "  <tbody>\n",
       "    <tr>\n",
       "      <th>66385</th>\n",
       "      <td>A poodle escaped onto the runway while crew me...</td>\n",
       "      <td>Planes delayed as flyer's poodle escapes onto ...</td>\n",
       "    </tr>\n",
       "    <tr>\n",
       "      <th>6101</th>\n",
       "      <td>'The Last Color', which marks chef Vikas Khann...</td>\n",
       "      <td>Chef Vikas to make directorial debut with 'The...</td>\n",
       "    </tr>\n",
       "    <tr>\n",
       "      <th>84154</th>\n",
       "      <td>The US Air Force is lifting a grounding order ...</td>\n",
       "      <td>World's costliest jets back in air, oxygen sho...</td>\n",
       "    </tr>\n",
       "    <tr>\n",
       "      <th>35960</th>\n",
       "      <td>Bangalore Metro Rail Corporation Limited (BMRC...</td>\n",
       "      <td>Bengaluru metro extends train timings for IPL ...</td>\n",
       "    </tr>\n",
       "    <tr>\n",
       "      <th>18343</th>\n",
       "      <td>Mathrubhumi news editor Vinod Chandran and his...</td>\n",
       "      <td>News editor, wife assaulted in Kerala during h...</td>\n",
       "    </tr>\n",
       "    <tr>\n",
       "      <th>77544</th>\n",
       "      <td>The Income Tax Department recovered Ã¢ÂÂ¹5 cr...</td>\n",
       "      <td>I-T dept recovers Ã¢ÂÂ¹5 cr from K'taka Min h...</td>\n",
       "    </tr>\n",
       "    <tr>\n",
       "      <th>65508</th>\n",
       "      <td>Niti Aayog Vice Chairman Rajiv Kumar has said ...</td>\n",
       "      <td>Slowdown bottomed out, GDP to grow 7% in FY18 ...</td>\n",
       "    </tr>\n",
       "    <tr>\n",
       "      <th>86103</th>\n",
       "      <td>A marriage was interrupted in Vellore when a m...</td>\n",
       "      <td>Man pushes away brother, marries his bride at ...</td>\n",
       "    </tr>\n",
       "    <tr>\n",
       "      <th>82223</th>\n",
       "      <td>US President Donald Trump has spent 35 days at...</td>\n",
       "      <td>Trump spent 1/5th of his presidency playing go...</td>\n",
       "    </tr>\n",
       "    <tr>\n",
       "      <th>78584</th>\n",
       "      <td>The three Delhi Municipal Corporations have co...</td>\n",
       "      <td>Ã¢ÂÂ¹6.17 crore collected as air pollution fi...</td>\n",
       "    </tr>\n",
       "    <tr>\n",
       "      <th>6673</th>\n",
       "      <td>Lloyd Russell-Moyle, an MP from the UK's Labou...</td>\n",
       "      <td>UK MP expelled after grabbing mace during Parl...</td>\n",
       "    </tr>\n",
       "    <tr>\n",
       "      <th>28958</th>\n",
       "      <td>Lisa Mishra, a US-based YouTuber who did a cov...</td>\n",
       "      <td>'Veere..' team invites YouTuber who did Tareef...</td>\n",
       "    </tr>\n",
       "    <tr>\n",
       "      <th>83684</th>\n",
       "      <td>According to reports, comedian Kapil Sharma's ...</td>\n",
       "      <td>Kapil's fee reduced by 50% following show's lo...</td>\n",
       "    </tr>\n",
       "    <tr>\n",
       "      <th>84511</th>\n",
       "      <td>Two Pakistani diplomats based in a consulate o...</td>\n",
       "      <td>Two Pakistani diplomats go missing in Afghanistan</td>\n",
       "    </tr>\n",
       "    <tr>\n",
       "      <th>54613</th>\n",
       "      <td>Apple on Thursday apologised to its customers ...</td>\n",
       "      <td>Apple apologises for slowing down older iPhones</td>\n",
       "    </tr>\n",
       "  </tbody>\n",
       "</table>\n",
       "</div>"
      ],
      "text/plain": [
       "                                                    text  \\\n",
       "66385  A poodle escaped onto the runway while crew me...   \n",
       "6101   'The Last Color', which marks chef Vikas Khann...   \n",
       "84154  The US Air Force is lifting a grounding order ...   \n",
       "35960  Bangalore Metro Rail Corporation Limited (BMRC...   \n",
       "18343  Mathrubhumi news editor Vinod Chandran and his...   \n",
       "77544  The Income Tax Department recovered Ã¢ÂÂ¹5 cr...   \n",
       "65508  Niti Aayog Vice Chairman Rajiv Kumar has said ...   \n",
       "86103  A marriage was interrupted in Vellore when a m...   \n",
       "82223  US President Donald Trump has spent 35 days at...   \n",
       "78584  The three Delhi Municipal Corporations have co...   \n",
       "6673   Lloyd Russell-Moyle, an MP from the UK's Labou...   \n",
       "28958  Lisa Mishra, a US-based YouTuber who did a cov...   \n",
       "83684  According to reports, comedian Kapil Sharma's ...   \n",
       "84511  Two Pakistani diplomats based in a consulate o...   \n",
       "54613  Apple on Thursday apologised to its customers ...   \n",
       "\n",
       "                                               headlines  \n",
       "66385  Planes delayed as flyer's poodle escapes onto ...  \n",
       "6101   Chef Vikas to make directorial debut with 'The...  \n",
       "84154  World's costliest jets back in air, oxygen sho...  \n",
       "35960  Bengaluru metro extends train timings for IPL ...  \n",
       "18343  News editor, wife assaulted in Kerala during h...  \n",
       "77544  I-T dept recovers Ã¢ÂÂ¹5 cr from K'taka Min h...  \n",
       "65508  Slowdown bottomed out, GDP to grow 7% in FY18 ...  \n",
       "86103  Man pushes away brother, marries his bride at ...  \n",
       "82223  Trump spent 1/5th of his presidency playing go...  \n",
       "78584  Ã¢ÂÂ¹6.17 crore collected as air pollution fi...  \n",
       "6673   UK MP expelled after grabbing mace during Parl...  \n",
       "28958  'Veere..' team invites YouTuber who did Tareef...  \n",
       "83684  Kapil's fee reduced by 50% following show's lo...  \n",
       "84511  Two Pakistani diplomats go missing in Afghanistan  \n",
       "54613    Apple apologises for slowing down older iPhones  "
      ]
     },
     "execution_count": 5,
     "metadata": {},
     "output_type": "execute_result"
    }
   ],
   "source": [
    "print(data.columns)\n",
    "data = data[['text','headlines']]\n",
    "data.head()\n",
    "\n",
    "#랜덤한 15개 샘플 출력\n",
    "data.sample(15)"
   ]
  },
  {
   "cell_type": "markdown",
   "id": "previous-knitting",
   "metadata": {},
   "source": [
    "# 텍스트 정규화 불용제거\n"
   ]
  },
  {
   "cell_type": "code",
   "execution_count": 7,
   "id": "sized-pizza",
   "metadata": {},
   "outputs": [
    {
     "name": "stderr",
     "output_type": "stream",
     "text": [
      "[nltk_data] Downloading package stopwords to /aiffel/nltk_data...\n",
      "[nltk_data]   Unzipping corpora/stopwords.zip.\n"
     ]
    },
    {
     "data": {
      "text/plain": [
       "True"
      ]
     },
     "execution_count": 7,
     "metadata": {},
     "output_type": "execute_result"
    }
   ],
   "source": [
    "import nltk\n",
    "from nltk.corpus import stopwords\n",
    "nltk.download('stopwords')"
   ]
  },
  {
   "cell_type": "code",
   "execution_count": 13,
   "id": "ignored-cameroon",
   "metadata": {},
   "outputs": [
    {
     "name": "stdout",
     "output_type": "stream",
     "text": [
      "Text 열에서 중복을 배제한 유일한 샘플의 수 : 98360\n",
      "Summary 열에서 중복을 배제한 유일한 샘플의 수 : 98280\n",
      "text         0\n",
      "headlines    0\n",
      "dtype: int64\n"
     ]
    }
   ],
   "source": [
    "print('Text 열에서 중복을 배제한 유일한 샘플의 수 :', data['text'].nunique())\n",
    "print('Summary 열에서 중복을 배제한 유일한 샘플의 수 :', data['headlines'].nunique())\n",
    "# 중복데이터 제거\n",
    "data.drop_duplicates(subset = ['headlines'], inplace=True)\n",
    "\n",
    "print(data.isnull().sum())"
   ]
  },
  {
   "cell_type": "code",
   "execution_count": 14,
   "id": "damaged-genetics",
   "metadata": {},
   "outputs": [
    {
     "name": "stdout",
     "output_type": "stream",
     "text": [
      "정규화 사전의 수:  120\n"
     ]
    }
   ],
   "source": [
    "# 텍스트 정규화 사전\n",
    "contractions = {\"ain't\": \"is not\", \"aren't\": \"are not\",\"can't\": \"cannot\", \"'cause\": \"because\", \"could've\": \"could have\", \"couldn't\": \"could not\",\n",
    "                           \"didn't\": \"did not\",  \"doesn't\": \"does not\", \"don't\": \"do not\", \"hadn't\": \"had not\", \"hasn't\": \"has not\", \"haven't\": \"have not\",\n",
    "                           \"he'd\": \"he would\",\"he'll\": \"he will\", \"he's\": \"he is\", \"how'd\": \"how did\", \"how'd'y\": \"how do you\", \"how'll\": \"how will\", \"how's\": \"how is\",\n",
    "                           \"I'd\": \"I would\", \"I'd've\": \"I would have\", \"I'll\": \"I will\", \"I'll've\": \"I will have\",\"I'm\": \"I am\", \"I've\": \"I have\", \"i'd\": \"i would\",\n",
    "                           \"i'd've\": \"i would have\", \"i'll\": \"i will\",  \"i'll've\": \"i will have\",\"i'm\": \"i am\", \"i've\": \"i have\", \"isn't\": \"is not\", \"it'd\": \"it would\",\n",
    "                           \"it'd've\": \"it would have\", \"it'll\": \"it will\", \"it'll've\": \"it will have\",\"it's\": \"it is\", \"let's\": \"let us\", \"ma'am\": \"madam\",\n",
    "                           \"mayn't\": \"may not\", \"might've\": \"might have\",\"mightn't\": \"might not\",\"mightn't've\": \"might not have\", \"must've\": \"must have\",\n",
    "                           \"mustn't\": \"must not\", \"mustn't've\": \"must not have\", \"needn't\": \"need not\", \"needn't've\": \"need not have\",\"o'clock\": \"of the clock\",\n",
    "                           \"oughtn't\": \"ought not\", \"oughtn't've\": \"ought not have\", \"shan't\": \"shall not\", \"sha'n't\": \"shall not\", \"shan't've\": \"shall not have\",\n",
    "                           \"she'd\": \"she would\", \"she'd've\": \"she would have\", \"she'll\": \"she will\", \"she'll've\": \"she will have\", \"she's\": \"she is\",\n",
    "                           \"should've\": \"should have\", \"shouldn't\": \"should not\", \"shouldn't've\": \"should not have\", \"so've\": \"so have\",\"so's\": \"so as\",\n",
    "                           \"this's\": \"this is\",\"that'd\": \"that would\", \"that'd've\": \"that would have\", \"that's\": \"that is\", \"there'd\": \"there would\",\n",
    "                           \"there'd've\": \"there would have\", \"there's\": \"there is\", \"here's\": \"here is\",\"they'd\": \"they would\", \"they'd've\": \"they would have\",\n",
    "                           \"they'll\": \"they will\", \"they'll've\": \"they will have\", \"they're\": \"they are\", \"they've\": \"they have\", \"to've\": \"to have\",\n",
    "                           \"wasn't\": \"was not\", \"we'd\": \"we would\", \"we'd've\": \"we would have\", \"we'll\": \"we will\", \"we'll've\": \"we will have\", \"we're\": \"we are\",\n",
    "                           \"we've\": \"we have\", \"weren't\": \"were not\", \"what'll\": \"what will\", \"what'll've\": \"what will have\", \"what're\": \"what are\",\n",
    "                           \"what's\": \"what is\", \"what've\": \"what have\", \"when's\": \"when is\", \"when've\": \"when have\", \"where'd\": \"where did\", \"where's\": \"where is\",\n",
    "                           \"where've\": \"where have\", \"who'll\": \"who will\", \"who'll've\": \"who will have\", \"who's\": \"who is\", \"who've\": \"who have\",\n",
    "                           \"why's\": \"why is\", \"why've\": \"why have\", \"will've\": \"will have\", \"won't\": \"will not\", \"won't've\": \"will not have\",\n",
    "                           \"would've\": \"would have\", \"wouldn't\": \"would not\", \"wouldn't've\": \"would not have\", \"y'all\": \"you all\",\n",
    "                           \"y'all'd\": \"you all would\",\"y'all'd've\": \"you all would have\",\"y'all're\": \"you all are\",\"y'all've\": \"you all have\",\n",
    "                           \"you'd\": \"you would\", \"you'd've\": \"you would have\", \"you'll\": \"you will\", \"you'll've\": \"you will have\",\n",
    "                           \"you're\": \"you are\", \"you've\": \"you have\"}\n",
    "\n",
    "print(\"정규화 사전의 수: \", len(contractions))"
   ]
  },
  {
   "cell_type": "code",
   "execution_count": 15,
   "id": "approximate-chambers",
   "metadata": {},
   "outputs": [
    {
     "name": "stdout",
     "output_type": "stream",
     "text": [
      "불용어 개수 : 179\n",
      "['i', 'me', 'my', 'myself', 'we', 'our', 'ours', 'ourselves', 'you', \"you're\", \"you've\", \"you'll\", \"you'd\", 'your', 'yours', 'yourself', 'yourselves', 'he', 'him', 'his', 'himself', 'she', \"she's\", 'her', 'hers', 'herself', 'it', \"it's\", 'its', 'itself', 'they', 'them', 'their', 'theirs', 'themselves', 'what', 'which', 'who', 'whom', 'this', 'that', \"that'll\", 'these', 'those', 'am', 'is', 'are', 'was', 'were', 'be', 'been', 'being', 'have', 'has', 'had', 'having', 'do', 'does', 'did', 'doing', 'a', 'an', 'the', 'and', 'but', 'if', 'or', 'because', 'as', 'until', 'while', 'of', 'at', 'by', 'for', 'with', 'about', 'against', 'between', 'into', 'through', 'during', 'before', 'after', 'above', 'below', 'to', 'from', 'up', 'down', 'in', 'out', 'on', 'off', 'over', 'under', 'again', 'further', 'then', 'once', 'here', 'there', 'when', 'where', 'why', 'how', 'all', 'any', 'both', 'each', 'few', 'more', 'most', 'other', 'some', 'such', 'no', 'nor', 'not', 'only', 'own', 'same', 'so', 'than', 'too', 'very', 's', 't', 'can', 'will', 'just', 'don', \"don't\", 'should', \"should've\", 'now', 'd', 'll', 'm', 'o', 're', 've', 'y', 'ain', 'aren', \"aren't\", 'couldn', \"couldn't\", 'didn', \"didn't\", 'doesn', \"doesn't\", 'hadn', \"hadn't\", 'hasn', \"hasn't\", 'haven', \"haven't\", 'isn', \"isn't\", 'ma', 'mightn', \"mightn't\", 'mustn', \"mustn't\", 'needn', \"needn't\", 'shan', \"shan't\", 'shouldn', \"shouldn't\", 'wasn', \"wasn't\", 'weren', \"weren't\", 'won', \"won't\", 'wouldn', \"wouldn't\"]\n"
     ]
    }
   ],
   "source": [
    "print('불용어 개수 :', len(stopwords.words('english') ))\n",
    "print(stopwords.words('english'))"
   ]
  },
  {
   "cell_type": "code",
   "execution_count": 16,
   "id": "automatic-pursuit",
   "metadata": {},
   "outputs": [],
   "source": [
    "# 데이터 전처리 함수\n",
    "def preprocess_sentence(sentence, remove_stopwords=True):\n",
    "    sentence = sentence.lower() # 텍스트 소문자화\n",
    "    sentence = BeautifulSoup(sentence, \"lxml\").text # <br />, <a href = ...> 등의 html 태그 제거\n",
    "    sentence = re.sub(r'\\([^)]*\\)', '', sentence) # 괄호로 닫힌 문자열 (...) 제거 Ex) my husband (and myself!) for => my husband for\n",
    "    sentence = re.sub('\"','', sentence) # 쌍따옴표 \" 제거\n",
    "    sentence = ' '.join([contractions[t] if t in contractions else t for t in sentence.split(\" \")]) # 약어 정규화\n",
    "    sentence = re.sub(r\"'s\\b\",\"\", sentence) # 소유격 제거. Ex) roland's -> roland\n",
    "    sentence = re.sub(\"[^a-zA-Z]\", \" \", sentence) # 영어 외 문자(숫자, 특수문자 등) 공백으로 변환\n",
    "    sentence = re.sub('[m]{2,}', 'mm', sentence) # m이 3개 이상이면 2개로 변경. Ex) ummmmmmm yeah -> umm yeah\n",
    "    \n",
    "    # 불용어 제거 (text)\n",
    "    if remove_stopwords:\n",
    "        tokens = ' '.join(word for word in sentence.split() if not word in stopwords.words('english') if len(word) > 1)\n",
    "    # 불용어 미제거 (headlines)\n",
    "    else:\n",
    "        tokens = ' '.join(word for word in sentence.split() if len(word) > 1)\n",
    "    return tokens"
   ]
  },
  {
   "cell_type": "code",
   "execution_count": 18,
   "id": "formal-announcement",
   "metadata": {},
   "outputs": [
    {
     "name": "stdout",
     "output_type": "stream",
     "text": [
      "421.1768503189087  seconds\n",
      "['saurav kant alumnus upgrad iiit pg program machine learning artificial intelligence sr systems engineer infosys almost years work experience program upgrad degree career support helped transition data scientist tech mahindra salary hike upgrad online power learning powered lakh careers'\n",
      " 'kunal shah credit card bill payment platform cred gave users chance win free food swiggy one year pranav kaushik delhi techie bagged reward spending cred coins users get one cred coin per rupee bill paid used avail rewards brands like ixigo bookmyshow ubereats cult fit'\n",
      " 'new zealand defeated india wickets fourth odi hamilton thursday win first match five match odi series india lost international match rohit sharma captaincy consecutive victories dating back march match witnessed india getting seventh lowest total odi cricket history'\n",
      " ...\n",
      " 'according reports new version science fiction film matrix development michael jordan reportedly play lead role film screenwriter zak penn talks write script film reports added actor keanu reeves starred original film followed two sequels'\n",
      " 'new music video shows rapper snoop dogg aiming toy gun clown character parodying us president donald trump video also shows tv airing news conference headline ronald klump wants deport doggs airing live clown house video remixed version song lavender'\n",
      " 'madhesi morcha alliance seven political parties withdrawn support pm pushpa kamal dahal led nepal government failed meet seven day ultimatum fulfil demands including endorsement revised constitution amendment bill morcha seats parliament despite withdrawal support immediate threat government']\n",
      "12.927262544631958  seconds\n",
      "['upgrad learner switches to career in ml al with salary hike'\n",
      " 'delhi techie wins free food from swiggy for one year on cred'\n",
      " 'new zealand end rohit sharma led india match winning streak' ...\n",
      " 'the matrix film to get reboot reports'\n",
      " 'snoop dogg aims gun at clown dressed as trump in new video'\n",
      " 'madhesi morcha withdraws support to nepalese government']\n"
     ]
    }
   ],
   "source": [
    "import multiprocessing as mp   # 멀티 프로세싱으로 전처리 속도를 획기적으로 줄여봅시다\n",
    "from multiprocessing import Pool\n",
    "import numpy as np\n",
    "import time\n",
    "from functools import partial  # map을 할 때 함수에 여러 인자를 넣어줄 수 있도록 합니다\n",
    "\n",
    "start = time.time()\n",
    "\n",
    "# num_cores 만큼 쪼개진 데이터를 전처리하여 반환합니다\n",
    "def appendTexts(sentences, remove_stopwords):\n",
    "  texts = []\n",
    "  for s in sentences:\n",
    "    texts += preprocess_sentence(s, remove_stopwords),\n",
    "  return texts\n",
    "\n",
    "def preprocess_data(data, remove_stopwords=True):\n",
    "  start_time = time.time()\n",
    "  num_cores = mp.cpu_count()  # 컴퓨터의 코어 수를 구합니다\n",
    "\n",
    "  text_data_split = np.array_split(data, num_cores)  # 코어 수만큼 데이터를 배분하여 병렬적으로 처리할 수 있게 합니다\n",
    "  pool = Pool(num_cores)\n",
    "\n",
    "  processed_data = np.concatenate(pool.map(partial(appendTexts, remove_stopwords=remove_stopwords), text_data_split))  # 각자 작업한 데이터를 하나로 합쳐줍니다\n",
    "  pool.close()\n",
    "  pool.join()\n",
    "  print(time.time() - start_time, \" seconds\")\n",
    "  return processed_data\n",
    "\n",
    "clean_text = preprocess_data(data['text'])  # 클라우드 기준으로 3~4분 정도 소요 됩니다\n",
    "print(clean_text)\n",
    "\n",
    "clean_summary = preprocess_data(data['headlines'], remove_stopwords=False) # 클라우드 기준 1분정도 소요됩니다.\n",
    "print(clean_summary)"
   ]
  },
  {
   "cell_type": "code",
   "execution_count": 20,
   "id": "honest-application",
   "metadata": {},
   "outputs": [],
   "source": [
    "data['text'] = clean_text\n",
    "data['headlines'] = clean_summary\n",
    "\n",
    "# 빈 값을 Null 값으로 변환\n",
    "data.replace('', np.nan, inplace=True)\n",
    "\n",
    "data.isnull().sum()\n",
    "\n",
    "data.dropna(axis=0, inplace=True)"
   ]
  },
  {
   "cell_type": "code",
   "execution_count": 21,
   "id": "minus-assembly",
   "metadata": {},
   "outputs": [
    {
     "name": "stdout",
     "output_type": "stream",
     "text": [
      "텍스트의 최소 길이 : 1\n",
      "텍스트의 최대 길이 : 60\n",
      "텍스트의 평균 길이 : 35.10031542531542\n",
      "요약의 최소 길이 : 1\n",
      "요약의 최대 길이 : 16\n",
      "요약의 평균 길이 : 9.2995115995116\n"
     ]
    },
    {
     "data": {
      "image/png": "[encoded data removed]",
      "text/plain": [
       "<Figure size 432x288 with 2 Axes>"
      ]
     },
     "metadata": {
      "needs_background": "light"
     },
     "output_type": "display_data"
    },
    {
     "data": {
      "image/png": "[encoded data removed]",
      "text/plain": [
       "<Figure size 432x288 with 1 Axes>"
      ]
     },
     "metadata": {
      "needs_background": "light"
     },
     "output_type": "display_data"
    },
    {
     "data": {
      "image/png": "[encoded data removed]",
      "text/plain": [
       "<Figure size 432x288 with 1 Axes>"
      ]
     },
     "metadata": {
      "needs_background": "light"
     },
     "output_type": "display_data"
    }
   ],
   "source": [
    "# 길이 분포 출력\n",
    "import matplotlib.pyplot as plt\n",
    "\n",
    "text_len = [len(s.split()) for s in data['text']]\n",
    "summary_len = [len(s.split()) for s in data['headlines']]\n",
    "\n",
    "print('텍스트의 최소 길이 : {}'.format(np.min(text_len)))\n",
    "print('텍스트의 최대 길이 : {}'.format(np.max(text_len)))\n",
    "print('텍스트의 평균 길이 : {}'.format(np.mean(text_len)))\n",
    "print('요약의 최소 길이 : {}'.format(np.min(summary_len)))\n",
    "print('요약의 최대 길이 : {}'.format(np.max(summary_len)))\n",
    "print('요약의 평균 길이 : {}'.format(np.mean(summary_len)))\n",
    "\n",
    "plt.subplot(1,2,1)\n",
    "plt.boxplot(text_len)\n",
    "plt.title('text')\n",
    "plt.subplot(1,2,2)\n",
    "plt.boxplot(summary_len)\n",
    "plt.title('headlines')\n",
    "plt.tight_layout()\n",
    "plt.show()\n",
    "\n",
    "plt.title('text')\n",
    "plt.hist(text_len, bins = 40)\n",
    "plt.xlabel('length of samples')\n",
    "plt.ylabel('number of samples')\n",
    "plt.show()\n",
    "\n",
    "plt.title('headlines')\n",
    "plt.hist(summary_len, bins = 40)\n",
    "plt.xlabel('length of samples')\n",
    "plt.ylabel('number of samples')\n",
    "plt.show()"
   ]
  },
  {
   "cell_type": "code",
   "execution_count": 27,
   "id": "parliamentary-chapel",
   "metadata": {},
   "outputs": [],
   "source": [
    "text_max_len = 50\n",
    "headlines_max_len = 14\n"
   ]
  },
  {
   "cell_type": "code",
   "execution_count": 28,
   "id": "unavailable-steam",
   "metadata": {},
   "outputs": [
    {
     "name": "stdout",
     "output_type": "stream",
     "text": [
      "전체 샘플 중 길이가 50 이하인 샘플의 비율: 0.9998575498575498\n",
      "전체 샘플 중 길이가 14 이하인 샘플의 비율: 0.9997761497761498\n",
      "전체 샘플수 : 98244\n"
     ]
    }
   ],
   "source": [
    "def below_threshold_len(max_len, nested_list):\n",
    "  cnt = 0\n",
    "  for s in nested_list:\n",
    "    if(len(s.split()) <= max_len):\n",
    "        cnt = cnt + 1\n",
    "  print('전체 샘플 중 길이가 %s 이하인 샘플의 비율: %s'%(max_len, (cnt / len(nested_list))))\n",
    "\n",
    "below_threshold_len(text_max_len, data['text'])\n",
    "below_threshold_len(headlines_max_len,  data['headlines'])\n",
    "\n",
    "data = data[data['text'].apply(lambda x: len(x.split()) <= text_max_len)]\n",
    "data = data[data['headlines'].apply(lambda x: len(x.split()) <= headlines_max_len)]\n",
    "print('전체 샘플수 :', (len(data)))"
   ]
  },
  {
   "cell_type": "code",
   "execution_count": 29,
   "id": "turned-climb",
   "metadata": {},
   "outputs": [
    {
     "data": {
      "text/html": [
       "<div>\n",
       "<style scoped>\n",
       "    .dataframe tbody tr th:only-of-type {\n",
       "        vertical-align: middle;\n",
       "    }\n",
       "\n",
       "    .dataframe tbody tr th {\n",
       "        vertical-align: top;\n",
       "    }\n",
       "\n",
       "    .dataframe thead th {\n",
       "        text-align: right;\n",
       "    }\n",
       "</style>\n",
       "<table border=\"1\" class=\"dataframe\">\n",
       "  <thead>\n",
       "    <tr style=\"text-align: right;\">\n",
       "      <th></th>\n",
       "      <th>text</th>\n",
       "      <th>headlines</th>\n",
       "      <th>decoder_input</th>\n",
       "      <th>decoder_target</th>\n",
       "    </tr>\n",
       "  </thead>\n",
       "  <tbody>\n",
       "    <tr>\n",
       "      <th>0</th>\n",
       "      <td>saurav kant alumnus upgrad iiit pg program mac...</td>\n",
       "      <td>upgrad learner switches to career in ml al wit...</td>\n",
       "      <td>sostoken upgrad learner switches to career in ...</td>\n",
       "      <td>upgrad learner switches to career in ml al wit...</td>\n",
       "    </tr>\n",
       "    <tr>\n",
       "      <th>1</th>\n",
       "      <td>kunal shah credit card bill payment platform c...</td>\n",
       "      <td>delhi techie wins free food from swiggy for on...</td>\n",
       "      <td>sostoken delhi techie wins free food from swig...</td>\n",
       "      <td>delhi techie wins free food from swiggy for on...</td>\n",
       "    </tr>\n",
       "    <tr>\n",
       "      <th>2</th>\n",
       "      <td>new zealand defeated india wickets fourth odi ...</td>\n",
       "      <td>new zealand end rohit sharma led india match w...</td>\n",
       "      <td>sostoken new zealand end rohit sharma led indi...</td>\n",
       "      <td>new zealand end rohit sharma led india match w...</td>\n",
       "    </tr>\n",
       "    <tr>\n",
       "      <th>3</th>\n",
       "      <td>aegon life iterm insurance plan customers enjo...</td>\n",
       "      <td>aegon life iterm insurance plan helps customer...</td>\n",
       "      <td>sostoken aegon life iterm insurance plan helps...</td>\n",
       "      <td>aegon life iterm insurance plan helps customer...</td>\n",
       "    </tr>\n",
       "    <tr>\n",
       "      <th>4</th>\n",
       "      <td>speaking sexual harassment allegations rajkuma...</td>\n",
       "      <td>have known hirani for yrs what if metoo claims...</td>\n",
       "      <td>sostoken have known hirani for yrs what if met...</td>\n",
       "      <td>have known hirani for yrs what if metoo claims...</td>\n",
       "    </tr>\n",
       "  </tbody>\n",
       "</table>\n",
       "</div>"
      ],
      "text/plain": [
       "                                                text  \\\n",
       "0  saurav kant alumnus upgrad iiit pg program mac...   \n",
       "1  kunal shah credit card bill payment platform c...   \n",
       "2  new zealand defeated india wickets fourth odi ...   \n",
       "3  aegon life iterm insurance plan customers enjo...   \n",
       "4  speaking sexual harassment allegations rajkuma...   \n",
       "\n",
       "                                           headlines  \\\n",
       "0  upgrad learner switches to career in ml al wit...   \n",
       "1  delhi techie wins free food from swiggy for on...   \n",
       "2  new zealand end rohit sharma led india match w...   \n",
       "3  aegon life iterm insurance plan helps customer...   \n",
       "4  have known hirani for yrs what if metoo claims...   \n",
       "\n",
       "                                       decoder_input  \\\n",
       "0  sostoken upgrad learner switches to career in ...   \n",
       "1  sostoken delhi techie wins free food from swig...   \n",
       "2  sostoken new zealand end rohit sharma led indi...   \n",
       "3  sostoken aegon life iterm insurance plan helps...   \n",
       "4  sostoken have known hirani for yrs what if met...   \n",
       "\n",
       "                                      decoder_target  \n",
       "0  upgrad learner switches to career in ml al wit...  \n",
       "1  delhi techie wins free food from swiggy for on...  \n",
       "2  new zealand end rohit sharma led india match w...  \n",
       "3  aegon life iterm insurance plan helps customer...  \n",
       "4  have known hirani for yrs what if metoo claims...  "
      ]
     },
     "execution_count": 29,
     "metadata": {},
     "output_type": "execute_result"
    }
   ],
   "source": [
    "#시작 종료 토큰 추가\n",
    "data['decoder_input'] = data['headlines'].apply(lambda x : 'sostoken '+ x)\n",
    "data['decoder_target'] = data['headlines'].apply(lambda x : x + ' eostoken')\n",
    "data.head()"
   ]
  },
  {
   "cell_type": "code",
   "execution_count": 30,
   "id": "hired-patrol",
   "metadata": {},
   "outputs": [],
   "source": [
    "encoder_input = np.array(data['text']) # 인코더의 입력\n",
    "decoder_input = np.array(data['decoder_input']) # 디코더의 입력\n",
    "decoder_target = np.array(data['decoder_target']) # 디코더의 레이블"
   ]
  },
  {
   "cell_type": "code",
   "execution_count": 31,
   "id": "charming-acrobat",
   "metadata": {},
   "outputs": [
    {
     "name": "stdout",
     "output_type": "stream",
     "text": [
      "[12766 55703 17000 ... 26239 16905 57839]\n"
     ]
    }
   ],
   "source": [
    "indices = np.arange(encoder_input.shape[0])\n",
    "np.random.shuffle(indices)\n",
    "print(indices)"
   ]
  },
  {
   "cell_type": "code",
   "execution_count": 32,
   "id": "built-peeing",
   "metadata": {},
   "outputs": [],
   "source": [
    "encoder_input = encoder_input[indices]\n",
    "decoder_input = decoder_input[indices]\n",
    "decoder_target = decoder_target[indices]"
   ]
  },
  {
   "cell_type": "code",
   "execution_count": 33,
   "id": "incoming-partnership",
   "metadata": {},
   "outputs": [
    {
     "name": "stdout",
     "output_type": "stream",
     "text": [
      "테스트 데이터의 수 : 19648\n"
     ]
    }
   ],
   "source": [
    "n_of_val = int(len(encoder_input)*0.2)\n",
    "print('테스트 데이터의 수 :', n_of_val)"
   ]
  },
  {
   "cell_type": "code",
   "execution_count": 34,
   "id": "short-death",
   "metadata": {},
   "outputs": [
    {
     "name": "stdout",
     "output_type": "stream",
     "text": [
      "훈련 데이터의 개수 : 78596\n",
      "훈련 레이블의 개수 : 78596\n",
      "테스트 데이터의 개수 : 19648\n",
      "테스트 레이블의 개수 : 19648\n"
     ]
    }
   ],
   "source": [
    "encoder_input_train = encoder_input[:-n_of_val]\n",
    "decoder_input_train = decoder_input[:-n_of_val]\n",
    "decoder_target_train = decoder_target[:-n_of_val]\n",
    "\n",
    "encoder_input_test = encoder_input[-n_of_val:]\n",
    "decoder_input_test = decoder_input[-n_of_val:]\n",
    "decoder_target_test = decoder_target[-n_of_val:]\n",
    "\n",
    "print('훈련 데이터의 개수 :', len(encoder_input_train))\n",
    "print('훈련 레이블의 개수 :', len(decoder_input_train))\n",
    "print('테스트 데이터의 개수 :', len(encoder_input_test))\n",
    "print('테스트 레이블의 개수 :', len(decoder_input_test))"
   ]
  },
  {
   "cell_type": "markdown",
   "id": "rural-premises",
   "metadata": {},
   "source": [
    "# 정수 인코딩"
   ]
  },
  {
   "cell_type": "code",
   "execution_count": 35,
   "id": "controversial-terror",
   "metadata": {},
   "outputs": [],
   "source": [
    "src_tokenizer = Tokenizer() # 토크나이저 정의\n",
    "src_tokenizer.fit_on_texts(encoder_input_train) # 입력된 데이터로부터 단어 집합 생성"
   ]
  },
  {
   "cell_type": "code",
   "execution_count": 36,
   "id": "different-shark",
   "metadata": {},
   "outputs": [
    {
     "name": "stdout",
     "output_type": "stream",
     "text": [
      "단어 집합(vocabulary)의 크기 : 69613\n",
      "등장 빈도가 6번 이하인 희귀 단어의 수: 47400\n",
      "단어 집합에서 희귀 단어를 제외시킬 경우의 단어 집합의 크기 22213\n",
      "단어 집합에서 희귀 단어의 비율: 68.09073017970782\n",
      "전체 등장 빈도에서 희귀 단어 등장 빈도 비율: 3.4787926728602256\n"
     ]
    }
   ],
   "source": [
    "threshold = 7\n",
    "total_cnt = len(src_tokenizer.word_index) # 단어의 수\n",
    "rare_cnt = 0 # 등장 빈도수가 threshold보다 작은 단어의 개수를 카운트\n",
    "total_freq = 0 # 훈련 데이터의 전체 단어 빈도수 총 합\n",
    "rare_freq = 0 # 등장 빈도수가 threshold보다 작은 단어의 등장 빈도수의 총 합\n",
    "\n",
    "# 단어와 빈도수의 쌍(pair)을 key와 value로 받는다.\n",
    "for key, value in src_tokenizer.word_counts.items():\n",
    "    total_freq = total_freq + value\n",
    "\n",
    "    # 단어의 등장 빈도수가 threshold보다 작으면\n",
    "    if(value < threshold):\n",
    "        rare_cnt = rare_cnt + 1\n",
    "        rare_freq = rare_freq + value\n",
    "\n",
    "print('단어 집합(vocabulary)의 크기 :', total_cnt)\n",
    "print('등장 빈도가 %s번 이하인 희귀 단어의 수: %s'%(threshold - 1, rare_cnt))\n",
    "print('단어 집합에서 희귀 단어를 제외시킬 경우의 단어 집합의 크기 %s'%(total_cnt - rare_cnt))\n",
    "print(\"단어 집합에서 희귀 단어의 비율:\", (rare_cnt / total_cnt)*100)\n",
    "print(\"전체 등장 빈도에서 희귀 단어 등장 빈도 비율:\", (rare_freq / total_freq)*100)"
   ]
  },
  {
   "cell_type": "code",
   "execution_count": 37,
   "id": "spatial-penalty",
   "metadata": {},
   "outputs": [],
   "source": [
    "src_vocab = 15000\n",
    "src_tokenizer = Tokenizer(num_words=src_vocab) # 단어 집합의 크기를 15,000으로 제한\n",
    "src_tokenizer.fit_on_texts(encoder_input_train) # 단어 집합 재생성."
   ]
  },
  {
   "cell_type": "code",
   "execution_count": 38,
   "id": "authorized-quilt",
   "metadata": {},
   "outputs": [
    {
     "name": "stdout",
     "output_type": "stream",
     "text": [
      "[[3671, 324, 7, 2004, 6319, 2301, 3, 13, 223, 4462, 19, 1139, 2319, 676, 4959, 834, 3625, 2004, 6319, 2055, 376, 139, 636, 9167, 619, 7774, 67, 4462, 10, 2140, 3653, 1254, 480, 128, 5699], [7, 215, 52, 1458, 91, 103, 236, 396, 3626, 46, 944, 318, 93, 61, 7, 215, 1458, 91, 187, 236, 396, 38, 1473, 209, 8701, 103, 108, 1458, 91, 1478, 29, 2482, 2237, 2550], [4463, 9842, 571, 4676, 4398, 7267, 10, 2238, 488, 4309, 4494, 2431, 6052, 120, 15, 948, 15, 7, 11, 15, 986, 948, 4309, 1463, 173, 488, 4463, 1, 409, 631, 14758]]\n"
     ]
    }
   ],
   "source": [
    "# 텍스트 시퀀스를 정수 시퀀스로 변환\n",
    "encoder_input_train = src_tokenizer.texts_to_sequences(encoder_input_train) \n",
    "encoder_input_test = src_tokenizer.texts_to_sequences(encoder_input_test)\n",
    "\n",
    "# 잘 진행되었는지 샘플 출력\n",
    "print(encoder_input_train[:3])"
   ]
  },
  {
   "cell_type": "code",
   "execution_count": 39,
   "id": "unnecessary-calculation",
   "metadata": {},
   "outputs": [],
   "source": [
    "tar_tokenizer = Tokenizer()\n",
    "tar_tokenizer.fit_on_texts(decoder_input_train)"
   ]
  },
  {
   "cell_type": "code",
   "execution_count": 40,
   "id": "sensitive-detector",
   "metadata": {},
   "outputs": [
    {
     "name": "stdout",
     "output_type": "stream",
     "text": [
      "단어 집합(vocabulary)의 크기 : 30149\n",
      "등장 빈도가 6번 이하인 희귀 단어의 수: 20655\n",
      "단어 집합에서 희귀 단어를 제외시킬 경우의 단어 집합의 크기 9494\n",
      "단어 집합에서 희귀 단어의 비율: 68.50973498291818\n",
      "전체 등장 빈도에서 희귀 단어 등장 빈도 비율: 5.333723638932737\n"
     ]
    }
   ],
   "source": [
    "threshold = 7\n",
    "total_cnt = len(tar_tokenizer.word_index) # 단어의 수\n",
    "rare_cnt = 0 # 등장 빈도수가 threshold보다 작은 단어의 개수를 카운트\n",
    "total_freq = 0 # 훈련 데이터의 전체 단어 빈도수 총 합\n",
    "rare_freq = 0 # 등장 빈도수가 threshold보다 작은 단어의 등장 빈도수의 총 합\n",
    "\n",
    "# 단어와 빈도수의 쌍(pair)을 key와 value로 받는다.\n",
    "for key, value in tar_tokenizer.word_counts.items():\n",
    "    total_freq = total_freq + value\n",
    "\n",
    "    # 단어의 등장 빈도수가 threshold보다 작으면\n",
    "    if(value < threshold):\n",
    "        rare_cnt = rare_cnt + 1\n",
    "        rare_freq = rare_freq + value\n",
    "\n",
    "print('단어 집합(vocabulary)의 크기 :', total_cnt)\n",
    "print('등장 빈도가 %s번 이하인 희귀 단어의 수: %s'%(threshold - 1, rare_cnt))\n",
    "print('단어 집합에서 희귀 단어를 제외시킬 경우의 단어 집합의 크기 %s'%(total_cnt - rare_cnt))\n",
    "print(\"단어 집합에서 희귀 단어의 비율:\", (rare_cnt / total_cnt)*100)\n",
    "print(\"전체 등장 빈도에서 희귀 단어 등장 빈도 비율:\", (rare_freq / total_freq)*100)"
   ]
  },
  {
   "cell_type": "code",
   "execution_count": 41,
   "id": "virtual-commodity",
   "metadata": {},
   "outputs": [
    {
     "name": "stdout",
     "output_type": "stream",
     "text": [
      "input\n",
      "input  [[1, 4540, 503, 80, 44, 1873, 4866, 1805], [1, 2577, 3, 725, 44, 214, 65, 1609, 165, 4, 1563], [1, 4274, 4145, 5435, 161, 463, 12, 59, 2368], [1, 100, 82, 2369, 250, 13, 1176, 56, 563, 79], [1, 1766, 128, 113, 1106, 17, 11, 2787, 570, 16, 1213, 70]]\n",
      "target\n",
      "decoder  [[4540, 503, 80, 44, 1873, 4866, 1805, 2], [2577, 3, 725, 44, 214, 65, 1609, 165, 4, 1563, 2], [4274, 4145, 5435, 161, 463, 12, 59, 2368, 2], [100, 82, 2369, 250, 13, 1176, 56, 563, 79, 2], [1766, 128, 113, 1106, 17, 11, 2787, 570, 16, 1213, 70, 2]]\n"
     ]
    }
   ],
   "source": [
    "tar_vocab = 8000\n",
    "tar_tokenizer = Tokenizer(num_words=tar_vocab) \n",
    "tar_tokenizer.fit_on_texts(decoder_input_train)\n",
    "tar_tokenizer.fit_on_texts(decoder_target_train)\n",
    "\n",
    "# 텍스트 시퀀스를 정수 시퀀스로 변환\n",
    "decoder_input_train = tar_tokenizer.texts_to_sequences(decoder_input_train) \n",
    "decoder_target_train = tar_tokenizer.texts_to_sequences(decoder_target_train)\n",
    "decoder_input_test = tar_tokenizer.texts_to_sequences(decoder_input_test)\n",
    "decoder_target_test = tar_tokenizer.texts_to_sequences(decoder_target_test)\n",
    "\n",
    "# 잘 변환되었는지 확인\n",
    "print('input')\n",
    "print('input ',decoder_input_train[:5])\n",
    "print('target')\n",
    "print('decoder ',decoder_target_train[:5])"
   ]
  },
  {
   "cell_type": "code",
   "execution_count": 42,
   "id": "similar-license",
   "metadata": {},
   "outputs": [
    {
     "name": "stdout",
     "output_type": "stream",
     "text": [
      "삭제할 훈련 데이터의 개수 : 1\n",
      "삭제할 테스트 데이터의 개수 : 0\n"
     ]
    },
    {
     "name": "stderr",
     "output_type": "stream",
     "text": [
      "/opt/conda/lib/python3.7/site-packages/numpy/core/_asarray.py:83: VisibleDeprecationWarning: Creating an ndarray from ragged nested sequences (which is a list-or-tuple of lists-or-tuples-or ndarrays with different lengths or shapes) is deprecated. If you meant to do this, you must specify 'dtype=object' when creating the ndarray\n",
      "  return array(a, dtype, copy=False, order=order)\n"
     ]
    },
    {
     "name": "stdout",
     "output_type": "stream",
     "text": [
      "훈련 데이터의 개수 : 78595\n",
      "훈련 레이블의 개수 : 78595\n",
      "테스트 데이터의 개수 : 19648\n",
      "테스트 레이블의 개수 : 19648\n"
     ]
    }
   ],
   "source": [
    "drop_train = [index for index, sentence in enumerate(decoder_input_train) if len(sentence) == 1]\n",
    "drop_test = [index for index, sentence in enumerate(decoder_input_test) if len(sentence) == 1]\n",
    "\n",
    "print('삭제할 훈련 데이터의 개수 :', len(drop_train))\n",
    "print('삭제할 테스트 데이터의 개수 :', len(drop_test))\n",
    "\n",
    "encoder_input_train = np.delete(encoder_input_train, drop_train, axis=0)\n",
    "decoder_input_train = np.delete(decoder_input_train, drop_train, axis=0)\n",
    "decoder_target_train = np.delete(decoder_target_train, drop_train, axis=0)\n",
    "\n",
    "encoder_input_test = np.delete(encoder_input_test, drop_test, axis=0)\n",
    "decoder_input_test = np.delete(decoder_input_test, drop_test, axis=0)\n",
    "decoder_target_test = np.delete(decoder_target_test, drop_test, axis=0)\n",
    "\n",
    "print('훈련 데이터의 개수 :', len(encoder_input_train))\n",
    "print('훈련 레이블의 개수 :', len(decoder_input_train))\n",
    "print('테스트 데이터의 개수 :', len(encoder_input_test))\n",
    "print('테스트 레이블의 개수 :', len(decoder_input_test))"
   ]
  },
  {
   "cell_type": "code",
   "execution_count": 43,
   "id": "contemporary-triangle",
   "metadata": {},
   "outputs": [],
   "source": [
    "#pre 패딩으로 시도함.\n",
    "encoder_input_train = pad_sequences(encoder_input_train, maxlen=text_max_len, padding='pre')\n",
    "encoder_input_test = pad_sequences(encoder_input_test, maxlen=text_max_len, padding='pre')\n",
    "decoder_input_train = pad_sequences(decoder_input_train, maxlen=headlines_max_len, padding='pre')\n",
    "decoder_target_train = pad_sequences(decoder_target_train, maxlen=headlines_max_len, padding='pre')\n",
    "decoder_input_test = pad_sequences(decoder_input_test, maxlen=headlines_max_len, padding='pre')\n",
    "decoder_target_test = pad_sequences(decoder_target_test, maxlen=headlines_max_len, padding='pre')"
   ]
  },
  {
   "cell_type": "code",
   "execution_count": 46,
   "id": "through-person",
   "metadata": {},
   "outputs": [],
   "source": [
    "from tensorflow.keras.layers import Input, LSTM, Embedding, Dense, Concatenate\n",
    "from tensorflow.keras.models import Model\n",
    "from tensorflow.keras.callbacks import EarlyStopping, ModelCheckpoint\n",
    "\n",
    "\n",
    "# 인코더 설계 시작\n",
    "embedding_dim = 128\n",
    "hidden_size = 256\n",
    "\n",
    "# 인코더\n",
    "encoder_inputs = Input(shape=(text_max_len,))\n",
    "\n",
    "# 인코더의 임베딩 층\n",
    "enc_emb = Embedding(src_vocab, embedding_dim)(encoder_inputs)\n",
    "\n",
    "# 인코더의 LSTM 1\n",
    "encoder_lstm1 = LSTM(hidden_size, return_sequences=True, return_state=True ,dropout = 0.4)\n",
    "encoder_output1, state_h1, state_c1 = encoder_lstm1(enc_emb)\n",
    "\n",
    "# 인코더의 LSTM 2\n",
    "encoder_lstm2 = LSTM(hidden_size, return_sequences=True, return_state=True, dropout=0.4)\n",
    "encoder_output2, state_h2, state_c2 = encoder_lstm2(encoder_output1)\n",
    "\n",
    "# 인코더의 LSTM 3\n",
    "encoder_lstm3 = LSTM(hidden_size, return_state=True, return_sequences=True, dropout=0.4)\n",
    "encoder_outputs, state_h, state_c= encoder_lstm3(encoder_output2)"
   ]
  },
  {
   "cell_type": "code",
   "execution_count": 47,
   "id": "middle-julian",
   "metadata": {},
   "outputs": [],
   "source": [
    "# 디코더 설계\n",
    "decoder_inputs = Input(shape=(None,))\n",
    "\n",
    "# 디코더의 임베딩 층\n",
    "dec_emb_layer = Embedding(tar_vocab, embedding_dim)\n",
    "dec_emb = dec_emb_layer(decoder_inputs)\n",
    "\n",
    "# 디코더의 LSTM\n",
    "decoder_lstm = LSTM(hidden_size, return_sequences=True, return_state=True, dropout=0.4)\n",
    "decoder_outputs, _, _ = decoder_lstm(dec_emb, initial_state=[state_h, state_c])"
   ]
  },
  {
   "cell_type": "code",
   "execution_count": 48,
   "id": "spread-massage",
   "metadata": {},
   "outputs": [
    {
     "name": "stdout",
     "output_type": "stream",
     "text": [
      "Model: \"model\"\n",
      "__________________________________________________________________________________________________\n",
      "Layer (type)                    Output Shape         Param #     Connected to                     \n",
      "==================================================================================================\n",
      "input_3 (InputLayer)            [(None, 50)]         0                                            \n",
      "__________________________________________________________________________________________________\n",
      "embedding_2 (Embedding)         (None, 50, 128)      1920000     input_3[0][0]                    \n",
      "__________________________________________________________________________________________________\n",
      "lstm_4 (LSTM)                   [(None, 50, 256), (N 394240      embedding_2[0][0]                \n",
      "__________________________________________________________________________________________________\n",
      "input_4 (InputLayer)            [(None, None)]       0                                            \n",
      "__________________________________________________________________________________________________\n",
      "lstm_5 (LSTM)                   [(None, 50, 256), (N 525312      lstm_4[0][0]                     \n",
      "__________________________________________________________________________________________________\n",
      "embedding_3 (Embedding)         (None, None, 128)    1024000     input_4[0][0]                    \n",
      "__________________________________________________________________________________________________\n",
      "lstm_6 (LSTM)                   [(None, 50, 256), (N 525312      lstm_5[0][0]                     \n",
      "__________________________________________________________________________________________________\n",
      "lstm_7 (LSTM)                   [(None, None, 256),  394240      embedding_3[0][0]                \n",
      "                                                                 lstm_6[0][1]                     \n",
      "                                                                 lstm_6[0][2]                     \n",
      "__________________________________________________________________________________________________\n",
      "dense (Dense)                   (None, None, 8000)   2056000     lstm_7[0][0]                     \n",
      "==================================================================================================\n",
      "Total params: 6,839,104\n",
      "Trainable params: 6,839,104\n",
      "Non-trainable params: 0\n",
      "__________________________________________________________________________________________________\n"
     ]
    }
   ],
   "source": [
    "# 디코더의 출력층\n",
    "decoder_softmax_layer = Dense(tar_vocab, activation='softmax')\n",
    "decoder_softmax_outputs = decoder_softmax_layer(decoder_outputs) \n",
    "\n",
    "# 모델 정의\n",
    "model = Model([encoder_inputs, decoder_inputs], decoder_softmax_outputs)\n",
    "model.summary()"
   ]
  },
  {
   "cell_type": "code",
   "execution_count": 49,
   "id": "incorrect-feature",
   "metadata": {},
   "outputs": [],
   "source": [
    "# 어텐션 메커니즘\n",
    "\n",
    "urllib.request.urlretrieve(\"https://raw.githubusercontent.com/thushv89/attention_keras/master/src/layers/attention.py\", filename=\"attention.py\")\n",
    "from attention import AttentionLayer"
   ]
  },
  {
   "cell_type": "code",
   "execution_count": 50,
   "id": "looking-harassment",
   "metadata": {},
   "outputs": [
    {
     "name": "stdout",
     "output_type": "stream",
     "text": [
      "Model: \"model_1\"\n",
      "__________________________________________________________________________________________________\n",
      "Layer (type)                    Output Shape         Param #     Connected to                     \n",
      "==================================================================================================\n",
      "input_3 (InputLayer)            [(None, 50)]         0                                            \n",
      "__________________________________________________________________________________________________\n",
      "embedding_2 (Embedding)         (None, 50, 128)      1920000     input_3[0][0]                    \n",
      "__________________________________________________________________________________________________\n",
      "lstm_4 (LSTM)                   [(None, 50, 256), (N 394240      embedding_2[0][0]                \n",
      "__________________________________________________________________________________________________\n",
      "input_4 (InputLayer)            [(None, None)]       0                                            \n",
      "__________________________________________________________________________________________________\n",
      "lstm_5 (LSTM)                   [(None, 50, 256), (N 525312      lstm_4[0][0]                     \n",
      "__________________________________________________________________________________________________\n",
      "embedding_3 (Embedding)         (None, None, 128)    1024000     input_4[0][0]                    \n",
      "__________________________________________________________________________________________________\n",
      "lstm_6 (LSTM)                   [(None, 50, 256), (N 525312      lstm_5[0][0]                     \n",
      "__________________________________________________________________________________________________\n",
      "lstm_7 (LSTM)                   [(None, None, 256),  394240      embedding_3[0][0]                \n",
      "                                                                 lstm_6[0][1]                     \n",
      "                                                                 lstm_6[0][2]                     \n",
      "__________________________________________________________________________________________________\n",
      "attention_layer (AttentionLayer ((None, None, 256),  131328      lstm_6[0][0]                     \n",
      "                                                                 lstm_7[0][0]                     \n",
      "__________________________________________________________________________________________________\n",
      "concat_layer (Concatenate)      (None, None, 512)    0           lstm_7[0][0]                     \n",
      "                                                                 attention_layer[0][0]            \n",
      "__________________________________________________________________________________________________\n",
      "dense_1 (Dense)                 (None, None, 8000)   4104000     concat_layer[0][0]               \n",
      "==================================================================================================\n",
      "Total params: 9,018,432\n",
      "Trainable params: 9,018,432\n",
      "Non-trainable params: 0\n",
      "__________________________________________________________________________________________________\n"
     ]
    }
   ],
   "source": [
    "# 어텐션 층(어텐션 함수)\n",
    "attn_layer = AttentionLayer(name='attention_layer')\n",
    "# 인코더와 디코더의 모든 time step의 hidden state를 어텐션 층에 전달하고 결과를 리턴\n",
    "attn_out, attn_states = attn_layer([encoder_outputs, decoder_outputs])\n",
    "\n",
    "# 어텐션의 결과와 디코더의 hidden state들을 연결\n",
    "decoder_concat_input = Concatenate(axis=-1, name='concat_layer')([decoder_outputs, attn_out])\n",
    "\n",
    "# 디코더의 출력층\n",
    "decoder_softmax_layer = Dense(tar_vocab, activation='softmax')\n",
    "decoder_softmax_outputs = decoder_softmax_layer(decoder_concat_input)\n",
    "\n",
    "# 모델 정의\n",
    "model = Model([encoder_inputs, decoder_inputs], decoder_softmax_outputs)\n",
    "model.summary()"
   ]
  },
  {
   "cell_type": "code",
   "execution_count": 51,
   "id": "reduced-philip",
   "metadata": {},
   "outputs": [
    {
     "name": "stdout",
     "output_type": "stream",
     "text": [
      "Epoch 1/25\n",
      "308/308 [==============================] - 100s 297ms/step - loss: 5.0565 - val_loss: 4.3659\n",
      "Epoch 2/25\n",
      "308/308 [==============================] - 90s 293ms/step - loss: 4.3897 - val_loss: 4.2503\n",
      "Epoch 3/25\n",
      "308/308 [==============================] - 91s 294ms/step - loss: 4.2632 - val_loss: 4.1802\n",
      "Epoch 4/25\n",
      "308/308 [==============================] - 91s 294ms/step - loss: 4.1550 - val_loss: 4.0819\n",
      "Epoch 5/25\n",
      "308/308 [==============================] - 91s 294ms/step - loss: 4.0325 - val_loss: 3.9900\n",
      "Epoch 6/25\n",
      "308/308 [==============================] - 91s 294ms/step - loss: 3.9372 - val_loss: 3.9288\n",
      "Epoch 7/25\n",
      "308/308 [==============================] - 90s 294ms/step - loss: 3.8551 - val_loss: 3.8584\n",
      "Epoch 8/25\n",
      "308/308 [==============================] - 91s 294ms/step - loss: 3.7790 - val_loss: 3.8149\n",
      "Epoch 9/25\n",
      "308/308 [==============================] - 91s 294ms/step - loss: 3.7162 - val_loss: 3.8045\n",
      "Epoch 10/25\n",
      "308/308 [==============================] - 91s 294ms/step - loss: 3.6673 - val_loss: 3.7418\n",
      "Epoch 11/25\n",
      "308/308 [==============================] - 91s 295ms/step - loss: 3.6206 - val_loss: 3.7317\n",
      "Epoch 12/25\n",
      "308/308 [==============================] - 91s 297ms/step - loss: 3.5760 - val_loss: 3.6987\n",
      "Epoch 13/25\n",
      "308/308 [==============================] - 91s 296ms/step - loss: 3.5449 - val_loss: 3.6829\n",
      "Epoch 14/25\n",
      "308/308 [==============================] - 91s 294ms/step - loss: 3.5054 - val_loss: 3.6573\n",
      "Epoch 15/25\n",
      "308/308 [==============================] - 91s 294ms/step - loss: 3.4741 - val_loss: 3.6620\n",
      "Epoch 16/25\n",
      "308/308 [==============================] - 91s 294ms/step - loss: 3.4477 - val_loss: 3.6438\n",
      "Epoch 17/25\n",
      "308/308 [==============================] - 91s 294ms/step - loss: 3.4166 - val_loss: 3.6369\n",
      "Epoch 18/25\n",
      "308/308 [==============================] - 91s 294ms/step - loss: 3.3749 - val_loss: 3.6197\n",
      "Epoch 19/25\n",
      "308/308 [==============================] - 91s 295ms/step - loss: 3.3382 - val_loss: 3.5830\n",
      "Epoch 20/25\n",
      "308/308 [==============================] - 91s 295ms/step - loss: 3.2995 - val_loss: 3.5731\n",
      "Epoch 21/25\n",
      "308/308 [==============================] - 91s 295ms/step - loss: 3.2686 - val_loss: 3.5540\n",
      "Epoch 22/25\n",
      "308/308 [==============================] - 91s 294ms/step - loss: 3.2316 - val_loss: 3.5237\n",
      "Epoch 23/25\n",
      "308/308 [==============================] - 91s 294ms/step - loss: 3.1988 - val_loss: 3.5283\n",
      "Epoch 24/25\n",
      "308/308 [==============================] - 91s 294ms/step - loss: 3.1655 - val_loss: 3.4562\n",
      "Epoch 25/25\n",
      "308/308 [==============================] - 91s 295ms/step - loss: 3.1273 - val_loss: 3.4822\n"
     ]
    }
   ],
   "source": [
    "model.compile(optimizer='rmsprop', loss='sparse_categorical_crossentropy')\n",
    "es = EarlyStopping(monitor='val_loss', patience=2, verbose=1)\n",
    "history = model.fit(x=[encoder_input_train, decoder_input_train], y=decoder_target_train, \\\n",
    "          validation_data=([encoder_input_test, decoder_input_test], decoder_target_test), \\\n",
    "          batch_size=256, callbacks=[es], epochs=25)"
   ]
  },
  {
   "cell_type": "code",
   "execution_count": 52,
   "id": "violent-assistant",
   "metadata": {},
   "outputs": [
    {
     "data": {
      "image/png": "[encoded data removed]",
      "text/plain": [
       "<Figure size 432x288 with 1 Axes>"
      ]
     },
     "metadata": {
      "needs_background": "light"
     },
     "output_type": "display_data"
    }
   ],
   "source": [
    "plt.plot(history.history['loss'], label='train')\n",
    "plt.plot(history.history['val_loss'], label='test')\n",
    "plt.legend()\n",
    "plt.show()"
   ]
  },
  {
   "cell_type": "markdown",
   "id": "metropolitan-clinic",
   "metadata": {},
   "source": [
    "# 인퍼런스 구현"
   ]
  },
  {
   "cell_type": "code",
   "execution_count": 53,
   "id": "entertaining-eleven",
   "metadata": {},
   "outputs": [],
   "source": [
    "src_index_to_word = src_tokenizer.index_word # 원문 단어 집합에서 정수 -> 단어를 얻음\n",
    "tar_word_to_index = tar_tokenizer.word_index # 요약 단어 집합에서 단어 -> 정수를 얻음\n",
    "tar_index_to_word = tar_tokenizer.index_word # 요약 단어 집합에서 정수 -> 단어를 얻음"
   ]
  },
  {
   "cell_type": "code",
   "execution_count": 54,
   "id": "figured-bankruptcy",
   "metadata": {},
   "outputs": [],
   "source": [
    "# 인코더 설계\n",
    "encoder_model = Model(inputs=encoder_inputs, outputs=[encoder_outputs, state_h, state_c])\n",
    "\n",
    "# 이전 시점의 상태들을 저장하는 텐서\n",
    "decoder_state_input_h = Input(shape=(hidden_size,))\n",
    "decoder_state_input_c = Input(shape=(hidden_size,))\n",
    "\n",
    "dec_emb2 = dec_emb_layer(decoder_inputs)\n",
    "\n",
    "# 문장의 다음 단어를 예측하기 위해서 초기 상태(initial_state)를 이전 시점의 상태로 사용. 이는 뒤의 함수 decode_sequence()에 구현\n",
    "# 훈련 과정에서와 달리 LSTM의 리턴하는 은닉 상태와 셀 상태인 state_h와 state_c를 버리지 않음.\n",
    "decoder_outputs2, state_h2, state_c2 = decoder_lstm(dec_emb2, initial_state=[decoder_state_input_h, decoder_state_input_c])"
   ]
  },
  {
   "cell_type": "code",
   "execution_count": 55,
   "id": "short-omega",
   "metadata": {},
   "outputs": [],
   "source": [
    "# 어텐션 함수\n",
    "decoder_hidden_state_input = Input(shape=(text_max_len, hidden_size))\n",
    "attn_out_inf, attn_states_inf = attn_layer([decoder_hidden_state_input, decoder_outputs2])\n",
    "decoder_inf_concat = Concatenate(axis=-1, name='concat')([decoder_outputs2, attn_out_inf])\n",
    "\n",
    "# 디코더의 출력층\n",
    "decoder_outputs2 = decoder_softmax_layer(decoder_inf_concat) \n",
    "\n",
    "# 최종 디코더 모델\n",
    "decoder_model = Model(\n",
    "    [decoder_inputs] + [decoder_hidden_state_input,decoder_state_input_h, decoder_state_input_c],\n",
    "    [decoder_outputs2] + [state_h2, state_c2])"
   ]
  },
  {
   "cell_type": "code",
   "execution_count": 56,
   "id": "smoking-telephone",
   "metadata": {},
   "outputs": [],
   "source": [
    "def decode_sequence(input_seq):\n",
    "    # 입력으로부터 인코더의 상태를 얻음\n",
    "    e_out, e_h, e_c = encoder_model.predict(input_seq)\n",
    "\n",
    "     # <SOS>에 해당하는 토큰 생성\n",
    "    target_seq = np.zeros((1,1))\n",
    "    target_seq[0, 0] = tar_word_to_index['sostoken']\n",
    "\n",
    "    stop_condition = False\n",
    "    decoded_sentence = ''\n",
    "    while not stop_condition: # stop_condition이 True가 될 때까지 루프 반복\n",
    "\n",
    "        output_tokens, h, c = decoder_model.predict([target_seq] + [e_out, e_h, e_c])\n",
    "        sampled_token_index = np.argmax(output_tokens[0, -1, :])\n",
    "        sampled_token = tar_index_to_word[sampled_token_index]\n",
    "\n",
    "        if (sampled_token!='eostoken'):\n",
    "            decoded_sentence += ' '+sampled_token\n",
    "\n",
    "        #  <eos>에 도달하거나 최대 길이를 넘으면 중단.\n",
    "        if (sampled_token == 'eostoken'  or len(decoded_sentence.split()) >= (headlines_max_len-1)):\n",
    "            stop_condition = True\n",
    "\n",
    "        # 길이가 1인 타겟 시퀀스를 업데이트\n",
    "        target_seq = np.zeros((1,1))\n",
    "        target_seq[0, 0] = sampled_token_index\n",
    "\n",
    "        # 상태를 업데이트 합니다.\n",
    "        e_h, e_c = h, c\n",
    "\n",
    "    return decoded_sentence"
   ]
  },
  {
   "cell_type": "markdown",
   "id": "resistant-grove",
   "metadata": {},
   "source": [
    "# 모델 테스트"
   ]
  },
  {
   "cell_type": "code",
   "execution_count": 57,
   "id": "living-snake",
   "metadata": {},
   "outputs": [],
   "source": [
    "# 원문의 정수 시퀀스를 텍스트 시퀀스로 변환\n",
    "def seq2text(input_seq):\n",
    "    temp=''\n",
    "    for i in input_seq:\n",
    "        if (i!=0):\n",
    "            temp = temp + src_index_to_word[i]+' '\n",
    "    return temp\n",
    "\n",
    "# 요약문의 정수 시퀀스를 텍스트 시퀀스로 변환\n",
    "def seq2summary(input_seq):\n",
    "    temp=''\n",
    "    for i in input_seq:\n",
    "        if ((i!=0 and i!=tar_word_to_index['sostoken']) and i!=tar_word_to_index['eostoken']):\n",
    "            temp = temp + tar_index_to_word[i] + ' '\n",
    "    return temp"
   ]
  },
  {
   "cell_type": "code",
   "execution_count": 58,
   "id": "muslim-civilian",
   "metadata": {},
   "outputs": [
    {
     "name": "stdout",
     "output_type": "stream",
     "text": [
      "원문 : gautam gambhir got angry umpire wrongly given delhi ranji match himachal pradesh monday year old adjudged caught virender sehwag nephew mayank delivery despite bat touching ball gambhir got hurled angry words umpire going back pavilion \n",
      "실제 요약 : gambhir gets angry at umpire after being wrongly given out \n",
      "예측 요약 :  yr old who is the st indian to be in the world cup\n",
      "\n",
      "\n",
      "원문 : morgan stanley reportedly plans charge hour private meetings stock analysts new eu financial rules start next year fee along annual rate plans charge clients basic access equity research portal reportedly one one meeting prices may depend analyst ranking \n",
      "실제 요약 : morgan stanley plans lakh an hour fees \n",
      "예측 요약 :  do not want to be out of the world cup with india kohli\n",
      "\n",
      "\n",
      "원문 : gujarat cm vijay rupani sought congress leader ahmed patel resignation one two alleged isis arrested state employee hospital patel associated rupani also questioned resignation accused two days arrest cm claimed duo planned attack hindu religious places \n",
      "실제 요약 : guj cm links isis terrorist to cong mp demands resignation \n",
      "예측 요약 :  pm modi to be held in delhi for hrs to be held in\n",
      "\n",
      "\n",
      "원문 : defending move send cbi director alok verma leave centre wednesday said cooperating central vigilance commission probe official misconduct corruption allegations adding verma even failed furnish required files despite repeated reminders centre asserted created functioning \n",
      "실제 요약 : cbi chief sent on leave as he was not in probe govt \n",
      "예측 요약 :  if you are not to be pm modi on pm modi to bjp\n",
      "\n",
      "\n",
      "원문 : snapchat rolling feature called lets users send photos videos exist longer previously set second maximum duration app photos remain recipients screens choose dismiss users also send video messages loop friends manually dismiss \n",
      "실제 요약 : snapchat messages will no longer within seconds \n",
      "예측 요약 :  do not want to be out of the world cup with the year\n",
      "\n",
      "\n",
      "원문 : least six people killed several others left injured japan hit strongest storm years typhoon made landfall western part japan tuesday brought heavy rains strong winds authorities issued evacuation lakh people \n",
      "실제 요약 : killed as japan hit by strongest storm in years \n",
      "예측 요약 :  man of yr old girl killed in us firing in us for stealing\n",
      "\n",
      "\n",
      "원문 : thirteen years release animated superhero film teaser sequel released film revolves around character baby jack jack emerging directed brad bird also directed first film scheduled release june \n",
      "실제 요약 : teaser of released yrs after original film \n",
      "예측 요약 :  do not want to be part of my life in my life kangana\n",
      "\n",
      "\n",
      "원문 : kings xi punjab player aaron finch said captain ravichandran ashwin captain comes playing ms dhoni dhoni cool guy ashwin also calm made great decisions added along chief coach brad hodge ashwin left stone comes preparations game finch said \n",
      "실제 요약 : ashwin as captain comes from dhoni kxip finch \n",
      "예측 요약 :  do not want to be at the same if we have done it\n",
      "\n",
      "\n",
      "원문 : indian origin boy dairy products died due reaction piece cheese allegedly forced prank school year old died sunday battling ten days children hospital police also arrested classmate suspicion attempted murder \n",
      "실제 요약 : indian origin boy dies after cheese prank at london school \n",
      "예측 요약 :  yr old girl dies after falling off fire at home in west bengal\n",
      "\n",
      "\n",
      "원문 : year old us woman suffering breast cancer got married hospital hours died wedding day heather dressed wedding gown lying bed wearing oxygen mask husband david said proposed december day diagnosed cancer \n",
      "실제 요약 : us woman with cancer gets married hours before her death \n",
      "예측 요약 :  man who was once asked to pay back to man who killed self\n",
      "\n",
      "\n",
      "원문 : new tea named house tea inspired mahatma gandhi approach diet launched johannesburg house south africa tea organic free natural ingredients house museum guest house adapted house gandhi lived tenure city \n",
      "실제 요약 : gandhi house in south africa launches house tea \n",
      "예측 요약 :  man who was once asked to pay to man who killed in accident\n",
      "\n",
      "\n",
      "원문 : government thursday removed price control innovative medicines developed foreign companies five years date commencement commercial marketing include drugs used treating diseases rare government said price control exemption gives indian patients access foreign medicines \n",
      "실제 요약 : india removes price cap on drugs for first years \n",
      "예측 요약 :  man utd win th straight win in pl match in yrs for days\n",
      "\n",
      "\n",
      "원문 : australian helicopter firm helicopters giving guests chance take part helicopter pub firm take guests seven hour journey several pubs breweries across queensland firm also said guests picked homes overnight stays arranged required \n",
      "실제 요약 : australian pub to take guests via helicopter \n",
      "예측 요약 :  man who was once asked to pay back to man who killed self\n",
      "\n",
      "\n",
      "원문 : former canadian astronaut chris said future mars bound astronauts would need consider survive flown space three times said would tell crew longer need relationship planet us added \n",
      "실제 요약 : mars travellers will be not astronaut \n",
      "예측 요약 :  do not want to be out of the world cup winner slams us\n",
      "\n",
      "\n",
      "원문 : per reports bcci ask former cricketer virender sehwag keep mouth shut made coach indian cricket team fear would say india loses match series would surely important people bcci official quoted saying \n",
      "실제 요약 : bcci to ask sehwag to keep shut if made coach reports \n",
      "예측 요약 :  do not want to be out of my life in my life anushka\n",
      "\n",
      "\n",
      "원문 : event interacting olympic bronze medalist boxer vijender singh congress vice president rahul gandhi revealed black belt form japanese martial art involving traditional weapons gandhi also agreed suggestion vijender put videos sporting activities social media encourage people \n",
      "실제 요약 : am black belt in martial rahul gandhi tells vijender \n",
      "예측 요약 :  if you are not going to be pm modi on pm modi\n",
      "\n",
      "\n",
      "원문 : facebook admitted users received non security related sms notifications company phones signing two factor authentication security feature bug expect place coming days facebook said users also reported responses notifications appearing status updates facebook \n",
      "실제 요약 : non security related sms sent to users because of bug fb \n",
      "예측 요약 :  do not want to be out of the world cup with the year\n",
      "\n",
      "\n",
      "원문 : punjab cm captain amarinder singh said congress party never involved anti sikh riots killed estimated people added blame entire party acts remark comes amidst criticism congress president rahul gandhi made claim uk visit \n",
      "실제 요약 : cong as party not involved in anti sikh riots punjab cm \n",
      "예측 요약 :  pm modi to be held in bihar for not paying for money pm\n",
      "\n",
      "\n",
      "원문 : th nobel prize awards thursday honoured researcher marc paper cat solid liquid inspired photos cats inside glasses awards recognise unusual science awarded researchers discovering female penis male vagina cave insect among others \n",
      "실제 요약 : nobel prize awarded for if cat is liquid \n",
      "예측 요약 :  do not want to be out of the year old girl to life\n",
      "\n",
      "\n",
      "원문 : nestle india denied claims children family fell ill allegedly consuming madhya pradesh company said investigated matter product children consumed brand alleged packets reportedly purchased local soon children consumed started vomiting \n",
      "실제 요약 : kids fall ill on consuming nestle india responds \n",
      "예측 요약 :  man utd win th straight win in yrs low of the world cup\n",
      "\n",
      "\n",
      "원문 : venezuela opposition leader juan wednesday declared country interim president came amid protests nicol maduro sworn venezuelan president second time earlier month maduro criticised economic humanitarian crisis venezuela well alleged human rights abuses latin american country \n",
      "실제 요약 : venezuela opposition leader declares himself interim president \n",
      "예측 요약 :  pm modi to be held in jail for raping yr old girl in\n",
      "\n",
      "\n",
      "원문 : reacting indian team coach ravi shastri late congratulatory tweet captain virat kohli post marriage anushka sharma user wrote ab gaye users wrote singing media like ravi shastri ne nahi di kya hai liye \n",
      "실제 요약 : ab tweets user on shastri late wish to kohli \n",
      "예측 요약 :  do not want to do not be in my life with my life\n",
      "\n",
      "\n",
      "원문 : us navy abandoned efforts convict taiwan born navy officer spying taiwan striking plea deal thursday instead portrays willing reveal military secrets impress women however officer admitted lied flying taiwan failed disclose people taiwan military \n",
      "실제 요약 : us navy drops spy charges against officer in plea deal \n",
      "예측 요약 :  us will not be held for killing us man who killed us police\n",
      "\n",
      "\n",
      "원문 : aimim president asaduddin owaisi tuesday alleged ram temple issue sangh save prime minister narendra modi general elections supporting advocate kapil sibal plea case deferred july owaisi said election based around real issues demonetisation unemployment \n",
      "실제 요약 : ram temple issue used to save pm modi in polls owaisi \n",
      "예측 요약 :  up cm yogi to be held in up for raping yr old son\n",
      "\n",
      "\n",
      "원문 : manchester united new number alexis sanchez used wash cars streets six years old support family chile sanchez father abandoned family toddler mother cleaner would also sell fish sanchez joined manchester united arsenal monday \n",
      "실제 요약 : man utd new no washed cars did for money \n",
      "예측 요약 :  man who was once asked to pay to man who killed in us\n",
      "\n",
      "\n",
      "원문 : slamming pm narendra modi criticising policies previous congress led governments party president rahul gandhi saturday said drive vehicle looking rear view mirror cause accidents speaking election rally poll bound karnataka gandhi added country want hear past concerned future \n",
      "실제 요약 : pm modi drives by looking in view mirror rahul gandhi \n",
      "예측 요약 :  if you are not pm modi to pm modi on pm modi remark\n",
      "\n",
      "\n",
      "원문 : bcci committee administrators reportedly put hold contracts offered new head coach ravi shastri rest staff sought bcci legal team internal meeting reportedly held decide payment offered new staff shastri also scheduled meet coa monday \n",
      "실제 요약 : bcci panel puts coaches contracts on hold reports \n",
      "예측 요약 :  no one can be in the world cup as india win vs aus\n",
      "\n",
      "\n",
      "원문 : israeli prime minister benjamin netanyahu wednesday met winner singing contest joined signature chicken dance gave prime minister wife sara chicken shaped meeting brought great honour country netanyahu tweeted winner hails israel \n",
      "실제 요약 : video israeli pm does chicken dance with winner \n",
      "예측 요약 :  yr old who is the man who won the world cup final win\n",
      "\n",
      "\n",
      "원문 : white house press secretary sarah sanders said expects us begging years president donald trump user tweeted think talking trump prison sentence users wrote begging impeachment even handle next minutes \n",
      "실제 요약 : wh aide mocked for saying us will beg for nd trump term \n",
      "예측 요약 :  do not want to be out of the world cup winner of trump\n",
      "\n",
      "\n",
      "원문 : delhi cab driver days ago returned bag goods worth lakh left cab debt settle saying moral values greater personal needs added incident gives peace mind come delhi searching job \n",
      "실제 요약 : delhi who returned bag worth lakh has loan \n",
      "예측 요약 :  man who was once asked to pay back to man who killed self\n",
      "\n",
      "\n",
      "원문 : us researchers developing first ever vaccine block high heroin thus curbing addiction tested mice monkeys vaccine production prevents heroin reaching however vaccines people want quit drugs want stop nothing help researcher said \n",
      "실제 요약 : heroin vaccine to counter drug addiction being made \n",
      "예측 요약 :  man who was once asked to pay to pay for yrs in jail\n",
      "\n",
      "\n",
      "원문 : ranveer singh whether would star football player biopic said would hard cast football player would really work skills sort player added ranveer portray kapil dev film based india win cricket world cup \n",
      "실제 요약 : it would be hard to cast me as football player ranveer \n",
      "예측 요약 :  do not want to be part of my life in my life kangana\n",
      "\n",
      "\n",
      "원문 : television actress shilpa shinde claimed asked collect dues lakh end matter pertaining sexual harassment case tv producer kohli husband sanjay problem harassment rampant television industry said shilpa adding found strange people tv industry showed support \n",
      "실제 요약 : told to collect dues of end the matter shilpa \n",
      "예측 요약 :  do not want to be at the same film on my career career\n",
      "\n",
      "\n",
      "원문 : retired lieutenant colonel indian army tweet addressed prime minister narendra modi slammed message printed back railway ticket aware fare borne common citizens country message read however railway ministry clarified message printed every ticket \n",
      "실제 요약 : retd lt slams message on rail ticket ministry clarifies \n",
      "예측 요약 :  pm modi to be held in jail for raping yr old girl in\n",
      "\n",
      "\n",
      "원문 : woman village uttar pradesh muzaffarnagar raped four family months ran away boyfriend police filed case accused directive allahabad high court victim also accused family house \n",
      "실제 요약 : up woman raped by family for running away with boyfriend \n",
      "예측 요약 :  man of yr old girl in us for sending money to be held\n",
      "\n",
      "\n",
      "원문 : rohit sharma led india defeated bangladesh last ball asia cup final friday win tournament second straight time overall seventh time india matches bangladesh asia cup history third time four asia cup editions bangladesh finished runners \n",
      "실제 요약 : india defeat bangladesh to win asia cup for the time \n",
      "예측 요약 :  yr old who was the st indian to be in an ipl history\n",
      "\n",
      "\n",
      "원문 : papua new plane sunk sea runway landing island nation friday passengers crew rescued floating boeing sank pacific local reporter said year old aircraft previously operated jet airways air india express \n",
      "실제 요약 : plane runway and sinks into ocean all rescued \n",
      "예측 요약 :  man who was once asked to pay back to man who killed self\n",
      "\n",
      "\n",
      "원문 : dubai billion dollar transportation services startup careem hyderabad based shuttle service app undisclosed amount careem acquire talent technology drivers customers become part shuttle service app founded six iiit hyderabad graduates backed ventures uk based shell foundation \n",
      "실제 요약 : dubai startup hyderabad \n",
      "예측 요약 :  do not want to be out of the world cup deal with musk\n",
      "\n",
      "\n",
      "원문 : bangladesh registered first ever test win australia defeating runs first test wednesday win bangladesh smallest margin victory home batted first rounder shakib al hasan finished match figures help bangladesh register th win test cricket history \n",
      "실제 요약 : bangladesh defeat australia for the st time in test history \n",
      "예측 요약 :  man utd win th straight win in yrs low of the world cup\n",
      "\n",
      "\n",
      "원문 : drunk passenger locked washroom hour delhi airport earlier month emerged incident sparked scare carrying bag cleared security check technician open door outside following passenger found passed floor \n",
      "실제 요약 : drunk man passes out in loo sparks scare at delhi airport \n",
      "예측 요약 :  man who was shot at us open to be held for raping minor\n",
      "\n",
      "\n",
      "원문 : boy hyderabad jaiswal became youngest boy telangana pass intermediate examination class boy scored marks commerce economics main subjects boy said complete graduation commerce first repeat class ultimately become doctor \n",
      "실제 요약 : yr old becomes youngest in telangana to clear class \n",
      "예측 요약 :  man of yr old girl killed in us firing in noida school assault\n",
      "\n",
      "\n",
      "원문 : year old schoolgirl tamil nadu committed suicide wednesday allegedly reprimanded teacher principal uniform bench menstrual blood girl also left suicide note read hear complaint teacher complain like \n",
      "실제 요약 : girl on period scolded for uniform kills self \n",
      "예측 요약 :  man who was shot at us open to be held for raping minor\n",
      "\n",
      "\n",
      "원문 : co working space recently announced launch second co working campus gurugram facility gone operational anchor group acquiring seats making largest single transaction number seats co working delhi ncr located plot vihar lakh sq ft campus seating capacity least individuals \n",
      "실제 요약 : closes delhi ncr biggest co working deal with group \n",
      "예측 요약 :  do not know what you are you to be india to be india\n",
      "\n",
      "\n",
      "원문 : year old girl arrested punjab ludhiana allegedly killing four year old brother whose body found sack days ago interrogation girl revealed unhappy brother telling parents boyfriend planned murder days strangled death october \n",
      "실제 요약 : girl kills yr old brother for telling parents about her lover \n",
      "예측 요약 :  man of yr old girl killed in us firing in noida school assault\n",
      "\n",
      "\n",
      "원문 : study dismissed possibility travelling one point space another according einstein theory quantum critically unstable said lead author roman collapse gravitational effects force extremely high added \n",
      "실제 요약 : travelling through not possible study suggests \n",
      "예측 요약 :  man who was once asked to pay to man who killed in us\n",
      "\n",
      "\n",
      "원문 : former indian captain mahendra singh dhoni aged beat year old hardik pandya metre race ahead second odi sri lanka mohali video face shared bcci social media reacting video user tweeted dear ms dhoni anything cannot \n",
      "실제 요약 : dhoni beats pandya years his junior in metre race \n",
      "예측 요약 :  you do not want to be part of the world cup winner sunil\n",
      "\n",
      "\n",
      "원문 : gurugram district court monday reportedly sentenced blind banker years jail allegedly raping blind widow repeatedly pretext marriage reportedly accused also pleaded account blindness court rejected court upon voice identification help woman identify accused reports said \n",
      "실제 요약 : blind man jailed for raping blind woman in gurugram \n",
      "예측 요약 :  man who was once asked to pay back to man who killed self\n",
      "\n",
      "\n",
      "원문 : mumbai fire brigade investigation report revealed employees state insurance corporation hospital people died fire illegal canteen fire hazard hospital comes maharashtra industrial development corporation directed fire brigade take action hospital \n",
      "실제 요약 : hospital fire caused due to illegal report \n",
      "예측 요약 :  yr old girl dies after falling off fire at home in uttar pradesh\n",
      "\n",
      "\n",
      "원문 : delhi university professors alleged decision include author chetan bhagat novel five point someone university syllabus arbitrary follow proper procedure decision include book made almost secretly english professor said review committee formed decide whether book included \n",
      "실제 요약 : including chetan bhagat in syllabus was du \n",
      "예측 요약 :  do not want to be out of my friend on my death death\n",
      "\n",
      "\n",
      "원문 : australian cricketers accused harbhajan singh racially abusing andrew symonds following india threatened boycott tour last year steve smith looked towards dressing room seeking help drs call india said suffered brain chappell bowled delivery save seven runs odi last delivery \n",
      "실제 요약 : what major have australian cricket \n",
      "예측 요약 :  do not want to be part of my life in my life death\n",
      "\n",
      "\n"
     ]
    }
   ],
   "source": [
    "for i in range(50, 100):\n",
    "    print(\"원문 :\", seq2text(encoder_input_test[i]))\n",
    "    print(\"실제 요약 :\", seq2summary(decoder_input_test[i]))\n",
    "    print(\"예측 요약 :\", decode_sequence(encoder_input_test[i].reshape(1, text_max_len)))\n",
    "    print(\"\\n\")"
   ]
  },
  {
   "cell_type": "markdown",
   "id": "neither-wireless",
   "metadata": {},
   "source": [
    "# Summa 사용해보기"
   ]
  },
  {
   "cell_type": "code",
   "execution_count": 59,
   "id": "accepting-message",
   "metadata": {},
   "outputs": [],
   "source": [
    "import requests\n",
    "from summa.summarizer import summarize"
   ]
  },
  {
   "cell_type": "code",
   "execution_count": 60,
   "id": "creative-blake",
   "metadata": {},
   "outputs": [],
   "source": [
    "data_summa = pd.read_csv('news_summary_more.csv', encoding='iso-8859-1')"
   ]
  },
  {
   "cell_type": "code",
   "execution_count": 61,
   "id": "theoretical-algorithm",
   "metadata": {},
   "outputs": [
    {
     "name": "stdout",
     "output_type": "stream",
     "text": [
      "headlines :  \n",
      "headlines :  \n",
      "headlines :  \n",
      "headlines :  \n",
      "headlines :  \n"
     ]
    }
   ],
   "source": [
    "for i in range(5, 10):\n",
    "    print(\"headlines : \", summarize(data_summa['text'][i], ratio=0.3))"
   ]
  },
  {
   "cell_type": "code",
   "execution_count": 62,
   "id": "narrative-composite",
   "metadata": {},
   "outputs": [
    {
     "name": "stdout",
     "output_type": "stream",
     "text": [
      "원문 : Saurav Kant, an alumnus of upGrad and IIIT-B's PG Program in Machine learning and Artificial Intelligence, was a Sr Systems Engineer at Infosys with almost 5 years of work experience. The program and upGrad's 360-degree career support helped him transition to a Data Scientist at Tech Mahindra with 90% salary hike. upGrad's Online Power Learning has powered 3 lakh+ careers.\n",
      "실제 요약 : upGrad learner switches to career in ML & Al with 90% salary hike\n",
      "Extractive 요약 : upGrad's Online Power Learning has powered 3 lakh+ careers.\n",
      "\n",
      "\n",
      "원문 : Kunal Shah's credit card bill payment platform, CRED, gave users a chance to win free food from Swiggy for one year. Pranav Kaushik, a Delhi techie, bagged this reward after spending 2000 CRED coins. Users get one CRED coin per rupee of bill paid, which can be used to avail rewards from brands like Ixigo, BookMyShow, UberEats, Cult.Fit and more.\n",
      "실제 요약 : Delhi techie wins free food from Swiggy for one year on CRED\n",
      "Extractive 요약 : Users get one CRED coin per rupee of bill paid, which can be used to avail rewards from brands like Ixigo, BookMyShow, UberEats, Cult.Fit and more.\n",
      "\n",
      "\n",
      "원문 : New Zealand defeated India by 8 wickets in the fourth ODI at Hamilton on Thursday to win their first match of the five-match ODI series. India lost an international match under Rohit Sharma's captaincy after 12 consecutive victories dating back to March 2018. The match witnessed India getting all out for 92, their seventh lowest total in ODI cricket history.\n",
      "실제 요약 : New Zealand end Rohit Sharma-led India's 12-match winning streak\n",
      "Extractive 요약 : The match witnessed India getting all out for 92, their seventh lowest total in ODI cricket history.\n",
      "\n",
      "\n"
     ]
    }
   ],
   "source": [
    "for i in range(3):\n",
    "    print(\"원문 :\", data_summa[\"text\"][i])\n",
    "    print(\"실제 요약 :\", data_summa[\"headlines\"][i])\n",
    "    print(\"Extractive 요약 :\", summarize(data_summa[\"text\"][i], ratio=0.5))\n",
    "    print(\"\\n\")"
   ]
  },
  {
   "cell_type": "markdown",
   "id": "surface-brake",
   "metadata": {},
   "source": [
    "# 회고\n",
    "\n",
    "\n",
    "로컬에서 작동하지 않아서 굉장히 고생했다.\n",
    "전처리과정이 복잡해서 새로운개념을 배우느라 어려웠다.\n",
    "\n",
    "기본적인 큰들은 문자를 숫자화하고 LSTM을 거쳐서 어텐션까지 학습하는것이다.\n",
    "제일어려운부분을 해냈다는 성취감이 있다."
   ]
  },
  {
   "cell_type": "code",
   "execution_count": null,
   "id": "naval-marketing",
   "metadata": {},
   "outputs": [],
   "source": []
  }
 ],
 "metadata": {
  "kernelspec": {
   "display_name": "Python 3",
   "language": "python",
   "name": "python3"
  },
  "language_info": {
   "codemirror_mode": {
    "name": "ipython",
    "version": 3
   },
   "file_extension": ".py",
   "mimetype": "text/x-python",
   "name": "python",
   "nbconvert_exporter": "python",
   "pygments_lexer": "ipython3",
   "version": "3.8.10"
  }
 },
 "nbformat": 4,
 "nbformat_minor": 5
}
