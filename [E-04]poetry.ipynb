{
 "cells": [
  {
   "cell_type": "code",
   "execution_count": 1,
   "id": "unusual-choice",
   "metadata": {},
   "outputs": [
    {
     "name": "stdout",
     "output_type": "stream",
     "text": [
      "['First Citizen:', 'Before we proceed any further, hear me speak.', '', 'All:', 'Speak, speak.', '', 'First Citizen:', 'You are all resolved rather to die than to famish?', '']\n"
     ]
    }
   ],
   "source": [
    "import os, re \n",
    "import numpy as np\n",
    "import tensorflow as tf\n",
    "\n",
    "# 파일을 읽기모드로 열고\n",
    "# 라인 단위로 끊어서 list 형태로 읽어옵니다.\n",
    "file_path = os.getenv('HOME') + '/aiffel/lyricist/data/shakespeare.txt'\n",
    "with open(file_path, \"r\") as f:\n",
    "    raw_corpus = f.read().splitlines()\n",
    "\n",
    "# 앞에서부터 10라인만 화면에 출력해 볼까요?\n",
    "print(raw_corpus[:9])"
   ]
  },
  {
   "cell_type": "code",
   "execution_count": 2,
   "id": "historical-respect",
   "metadata": {},
   "outputs": [
    {
     "name": "stdout",
     "output_type": "stream",
     "text": [
      "Before we proceed any further, hear me speak.\n",
      "Speak, speak.\n",
      "You are all resolved rather to die than to famish?\n"
     ]
    }
   ],
   "source": [
    "for idx, sentence in enumerate(raw_corpus):\n",
    "    if len(sentence) == 0: continue   # 길이가 0인 문장은 건너뜁니다.\n",
    "    if sentence[-1] == \":\": continue  # 문장의 끝이 : 인 문장은 건너뜁니다.\n",
    "\n",
    "    if idx > 9: break   # 일단 문장 10개만 확인해 볼 겁니다.\n",
    "        \n",
    "    print(sentence)"
   ]
  },
  {
   "cell_type": "code",
   "execution_count": 3,
   "id": "fourth-sydney",
   "metadata": {},
   "outputs": [
    {
     "name": "stdout",
     "output_type": "stream",
     "text": [
      "<start> this is sample sentence . <end>\n"
     ]
    }
   ],
   "source": [
    "# 입력된 문장을\n",
    "#     1. 소문자로 바꾸고, 양쪽 공백을 지웁니다\n",
    "#     2. 특수문자 양쪽에 공백을 넣고\n",
    "#     3. 여러개의 공백은 하나의 공백으로 바꿉니다\n",
    "#     4. a-zA-Z?.!,¿가 아닌 모든 문자를 하나의 공백으로 바꿉니다\n",
    "#     5. 다시 양쪽 공백을 지웁니다\n",
    "#     6. 문장 시작에는 <start>, 끝에는 <end>를 추가합니다\n",
    "# 이 순서로 처리해주면 문제가 되는 상황을 방지할 수 있겠네요!\n",
    "def preprocess_sentence(sentence):\n",
    "    sentence = sentence.lower().strip() # 1\n",
    "    sentence = re.sub(r\"([?.!,¿])\", r\" \\1 \", sentence) # 2\n",
    "    sentence = re.sub(r'[\" \"]+', \" \", sentence) # 3\n",
    "    sentence = re.sub(r\"[^a-zA-Z?.!,¿]+\", \" \", sentence) # 4\n",
    "    sentence = sentence.strip() # 5\n",
    "    sentence = '<start> ' + sentence + ' <end>' # 6\n",
    "    return sentence\n",
    "\n",
    "# 이 문장이 어떻게 필터링되는지 확인해 보세요.\n",
    "print(preprocess_sentence(\"This @_is ;;;sample        sentence.\"))"
   ]
  },
  {
   "cell_type": "code",
   "execution_count": 4,
   "id": "magnetic-namibia",
   "metadata": {},
   "outputs": [
    {
     "data": {
      "text/plain": [
       "['<start> before we proceed any further , hear me speak . <end>',\n",
       " '<start> speak , speak . <end>',\n",
       " '<start> you are all resolved rather to die than to famish ? <end>',\n",
       " '<start> resolved . resolved . <end>',\n",
       " '<start> first , you know caius marcius is chief enemy to the people . <end>',\n",
       " '<start> we know t , we know t . <end>',\n",
       " '<start> let us kill him , and we ll have corn at our own price . <end>',\n",
       " '<start> is t a verdict ? <end>',\n",
       " '<start> no more talking on t let it be done away , away ! <end>',\n",
       " '<start> one word , good citizens . <end>']"
      ]
     },
     "execution_count": 4,
     "metadata": {},
     "output_type": "execute_result"
    }
   ],
   "source": [
    "# 여기에 정제된 문장을 모을겁니다\n",
    "corpus = []\n",
    "\n",
    "for sentence in raw_corpus:\n",
    "    # 우리가 원하지 않는 문장은 건너뜁니다\n",
    "    if len(sentence)== 0: continue\n",
    "    if sentence[-1] == \":\": continue\n",
    "    \n",
    "    # 정제를 하고 담아주세요\n",
    "    preprocessed_sentence = preprocess_sentence(sentence)\n",
    "    corpus.append(preprocessed_sentence)\n",
    "        \n",
    "# 정제된 결과를 10개만 확인해보죠\n",
    "corpus[:10]\n"
   ]
  },
  {
   "cell_type": "code",
   "execution_count": 5,
   "id": "accessory-niagara",
   "metadata": {},
   "outputs": [
    {
     "name": "stdout",
     "output_type": "stream",
     "text": [
      "[[   2  143   40 ...    0    0    0]\n",
      " [   2  110    4 ...    0    0    0]\n",
      " [   2   11   50 ...    0    0    0]\n",
      " ...\n",
      " [   2  149 4553 ...    0    0    0]\n",
      " [   2   34   71 ...    0    0    0]\n",
      " [   2  945   34 ...    0    0    0]] <keras_preprocessing.text.Tokenizer object at 0x7f316d926a90>\n"
     ]
    }
   ],
   "source": [
    "# 토큰화 할 때 텐서플로우의 Tokenizer와 pad_sequences를 사용합니다\n",
    "# 더 잘 알기 위해 아래 문서들을 참고하면 좋습니다\n",
    "# https://www.tensorflow.org/api_docs/python/tf/keras/preprocessing/text/Tokenizer\n",
    "# https://www.tensorflow.org/api_docs/python/tf/keras/preprocessing/sequence/pad_sequences\n",
    "def tokenize(corpus):\n",
    "    # 7000단어를 기억할 수 있는 tokenizer를 만들겁니다\n",
    "    # 우리는 이미 문장을 정제했으니 filters가 필요없어요\n",
    "    # 7000단어에 포함되지 못한 단어는 '<unk>'로 바꿀거에요\n",
    "    tokenizer = tf.keras.preprocessing.text.Tokenizer(\n",
    "        num_words=7000, \n",
    "        filters=' ',\n",
    "        oov_token=\"<unk>\"\n",
    "    )\n",
    "    # corpus를 이용해 tokenizer 내부의 단어장을 완성합니다\n",
    "    tokenizer.fit_on_texts(corpus)\n",
    "    # 준비한 tokenizer를 이용해 corpus를 Tensor로 변환합니다\n",
    "    tensor = tokenizer.texts_to_sequences(corpus)   \n",
    "    # 입력 데이터의 시퀀스 길이를 일정하게 맞춰줍니다\n",
    "    # 만약 시퀀스가 짧다면 문장 뒤에 패딩을 붙여 길이를 맞춰줍니다.\n",
    "    # 문장 앞에 패딩을 붙여 길이를 맞추고 싶다면 padding='pre'를 사용합니다\n",
    "    tensor = tf.keras.preprocessing.sequence.pad_sequences(tensor, padding='post')  \n",
    "    \n",
    "    print(tensor,tokenizer)\n",
    "    return tensor, tokenizer\n",
    "\n",
    "tensor, tokenizer = tokenize(corpus)"
   ]
  },
  {
   "cell_type": "code",
   "execution_count": 6,
   "id": "special-bangladesh",
   "metadata": {},
   "outputs": [
    {
     "name": "stdout",
     "output_type": "stream",
     "text": [
      "[[   2  143   40  933  140  591    4  124   24  110]\n",
      " [   2  110    4  110    5    3    0    0    0    0]\n",
      " [   2   11   50   43 1201  316    9  201   74    9]]\n"
     ]
    }
   ],
   "source": [
    "print(tensor[:3, :10])"
   ]
  },
  {
   "cell_type": "code",
   "execution_count": 7,
   "id": "wound-nitrogen",
   "metadata": {},
   "outputs": [
    {
     "name": "stdout",
     "output_type": "stream",
     "text": [
      "1 : <unk>\n",
      "2 : <start>\n",
      "3 : <end>\n",
      "4 : ,\n",
      "5 : .\n",
      "6 : the\n",
      "7 : and\n",
      "8 : i\n",
      "9 : to\n",
      "10 : of\n"
     ]
    }
   ],
   "source": [
    "for idx in tokenizer.index_word:\n",
    "    print(idx, \":\", tokenizer.index_word[idx])\n",
    "\n",
    "    if idx >= 10: break"
   ]
  },
  {
   "cell_type": "code",
   "execution_count": 8,
   "id": "resistant-patient",
   "metadata": {},
   "outputs": [
    {
     "name": "stdout",
     "output_type": "stream",
     "text": [
      "[  2 143  40 933 140 591   4 124  24 110   5   3   0   0   0   0   0   0\n",
      "   0   0]\n",
      "[143  40 933 140 591   4 124  24 110   5   3   0   0   0   0   0   0   0\n",
      "   0   0]\n"
     ]
    }
   ],
   "source": [
    "# tensor에서 마지막 토큰을 잘라내서 소스 문장을 생성합니다\n",
    "# 마지막 토큰은 <end>가 아니라 <pad>일 가능성이 높습니다.\n",
    "src_input = tensor[:, :-1]  \n",
    "# tensor에서 <start>를 잘라내서 타겟 문장을 생성합니다.\n",
    "tgt_input = tensor[:, 1:]    \n",
    "\n",
    "print(src_input[0])\n",
    "print(tgt_input[0])"
   ]
  },
  {
   "cell_type": "code",
   "execution_count": 9,
   "id": "conscious-miracle",
   "metadata": {},
   "outputs": [
    {
     "data": {
      "text/plain": [
       "<BatchDataset shapes: ((256, 20), (256, 20)), types: (tf.int32, tf.int32)>"
      ]
     },
     "execution_count": 9,
     "metadata": {},
     "output_type": "execute_result"
    }
   ],
   "source": [
    "BUFFER_SIZE = len(src_input)\n",
    "BATCH_SIZE = 256\n",
    "steps_per_epoch = len(src_input) // BATCH_SIZE\n",
    "\n",
    " # tokenizer가 구축한 단어사전 내 7000개와, 여기 포함되지 않은 0:<pad>를 포함하여 7001개\n",
    "VOCAB_SIZE = tokenizer.num_words + 1   \n",
    "\n",
    "# 준비한 데이터 소스로부터 데이터셋을 만듭니다\n",
    "# 데이터셋에 대해서는 아래 문서를 참고하세요\n",
    "# 자세히 알아둘수록 도움이 많이 되는 중요한 문서입니다\n",
    "# https://www.tensorflow.org/api_docs/python/tf/data/Dataset\n",
    "dataset = tf.data.Dataset.from_tensor_slices((src_input, tgt_input))\n",
    "dataset = dataset.shuffle(BUFFER_SIZE)\n",
    "dataset = dataset.batch(BATCH_SIZE, drop_remainder=True)\n",
    "dataset"
   ]
  },
  {
   "cell_type": "code",
   "execution_count": 10,
   "id": "historical-suicide",
   "metadata": {},
   "outputs": [],
   "source": [
    "#1개의 임베딩 2개 LSTM 1개 덴스\n",
    "\n",
    "class TextGenerator(tf.keras.Model):\n",
    "    def __init__(self, vocab_size, embedding_size, hidden_size):\n",
    "        super().__init__()\n",
    "        \n",
    "        self.embedding = tf.keras.layers.Embedding(vocab_size, embedding_size)\n",
    "        self.rnn_1 = tf.keras.layers.LSTM(hidden_size, return_sequences=True)\n",
    "        self.rnn_2 = tf.keras.layers.LSTM(hidden_size, return_sequences=True)\n",
    "        self.linear = tf.keras.layers.Dense(vocab_size)\n",
    "        \n",
    "    def call(self, x):\n",
    "        out = self.embedding(x)\n",
    "        out = self.rnn_1(out)\n",
    "        out = self.rnn_2(out)\n",
    "        out = self.linear(out)\n",
    "        \n",
    "        return out\n",
    "    \n",
    "embedding_size = 256\n",
    "hidden_size = 1024\n",
    "model = TextGenerator(tokenizer.num_words + 1, embedding_size , hidden_size)"
   ]
  },
  {
   "cell_type": "code",
   "execution_count": 11,
   "id": "turkish-examination",
   "metadata": {},
   "outputs": [
    {
     "data": {
      "text/plain": [
       "<tf.Tensor: shape=(256, 20, 7001), dtype=float32, numpy=\n",
       "array([[[-1.0429178e-05, -2.2635027e-04,  4.5041252e-06, ...,\n",
       "         -2.1242040e-04,  9.0703747e-05, -1.0811833e-04],\n",
       "        [-1.7545465e-04, -4.3935591e-04, -2.4784234e-04, ...,\n",
       "         -4.5276713e-04,  1.5890462e-04, -3.4225409e-04],\n",
       "        [-5.7580939e-04, -2.2662655e-04, -7.1539072e-04, ...,\n",
       "         -8.2272361e-04, -5.5937766e-05, -1.9885671e-04],\n",
       "        ...,\n",
       "        [-2.7187623e-04,  4.3934156e-04,  3.6222808e-04, ...,\n",
       "         -1.3715411e-03,  1.2900613e-03,  1.3839084e-03],\n",
       "        [-6.3946654e-06, -1.7743021e-05,  4.0946971e-04, ...,\n",
       "         -1.7753521e-03,  1.3875613e-03,  1.3991606e-03],\n",
       "        [ 2.5430863e-04, -4.5857730e-04,  4.7478761e-04, ...,\n",
       "         -2.1982149e-03,  1.5429682e-03,  1.4349202e-03]],\n",
       "\n",
       "       [[-1.0429178e-05, -2.2635027e-04,  4.5041252e-06, ...,\n",
       "         -2.1242040e-04,  9.0703747e-05, -1.0811833e-04],\n",
       "        [ 2.7476011e-05, -4.8110509e-04,  1.9153670e-04, ...,\n",
       "         -8.4879249e-04,  6.2409457e-04, -3.7334661e-04],\n",
       "        [-3.7886948e-05, -4.3245908e-04, -1.6112038e-04, ...,\n",
       "         -1.1149208e-03,  5.7999516e-04, -1.3131720e-04],\n",
       "        ...,\n",
       "        [ 9.2429441e-04, -1.3965997e-03,  7.9688638e-05, ...,\n",
       "         -3.3437472e-03,  1.4711535e-03,  1.9510958e-03],\n",
       "        [ 1.1584812e-03, -1.6318561e-03,  3.0421835e-04, ...,\n",
       "         -3.7349851e-03,  1.8781734e-03,  2.0488675e-03],\n",
       "        [ 1.3696294e-03, -1.8150436e-03,  5.1341660e-04, ...,\n",
       "         -4.0949667e-03,  2.2493456e-03,  2.1375350e-03]],\n",
       "\n",
       "       [[-1.0429178e-05, -2.2635027e-04,  4.5041252e-06, ...,\n",
       "         -2.1242040e-04,  9.0703747e-05, -1.0811833e-04],\n",
       "        [ 1.8515196e-04, -5.8326719e-04, -1.3582782e-05, ...,\n",
       "         -4.0933921e-04,  8.5737709e-05, -1.7790514e-04],\n",
       "        [ 6.5726810e-04, -6.5301213e-04,  1.1209023e-04, ...,\n",
       "         -4.1186067e-04,  1.3120525e-04, -4.3114161e-04],\n",
       "        ...,\n",
       "        [ 1.8507250e-03, -2.0293233e-03,  4.5836033e-04, ...,\n",
       "         -4.2619854e-03,  2.4667482e-03,  2.2613297e-03],\n",
       "        [ 1.9673300e-03, -2.1116389e-03,  6.4060726e-04, ...,\n",
       "         -4.5703165e-03,  2.7493783e-03,  2.3358313e-03],\n",
       "        [ 2.0748640e-03, -2.1663206e-03,  8.0718088e-04, ...,\n",
       "         -4.8482777e-03,  3.0034261e-03,  2.3937756e-03]],\n",
       "\n",
       "       ...,\n",
       "\n",
       "       [[-1.0429178e-05, -2.2635027e-04,  4.5041252e-06, ...,\n",
       "         -2.1242040e-04,  9.0703747e-05, -1.0811833e-04],\n",
       "        [-2.0038610e-04, -6.0565188e-04, -2.6441386e-04, ...,\n",
       "         -3.8339745e-04,  2.8785336e-04, -2.4682435e-04],\n",
       "        [-5.1998900e-04, -4.9032597e-04, -6.8721914e-04, ...,\n",
       "         -7.5172447e-04,  1.5031022e-04, -1.0780805e-04],\n",
       "        ...,\n",
       "        [ 1.3590067e-03, -2.2407870e-03,  7.9651497e-04, ...,\n",
       "         -4.2970376e-03,  2.4854743e-03,  1.9920184e-03],\n",
       "        [ 1.5536463e-03, -2.3098567e-03,  9.5303578e-04, ...,\n",
       "         -4.6200426e-03,  2.7619961e-03,  2.0948295e-03],\n",
       "        [ 1.7281567e-03, -2.3494465e-03,  1.0928850e-03, ...,\n",
       "         -4.9075303e-03,  3.0094527e-03,  2.1821032e-03]],\n",
       "\n",
       "       [[-1.0429178e-05, -2.2635027e-04,  4.5041252e-06, ...,\n",
       "         -2.1242040e-04,  9.0703747e-05, -1.0811833e-04],\n",
       "        [ 1.7046811e-04, -4.8511889e-04,  3.0600710e-05, ...,\n",
       "         -4.5823745e-04,  2.4460859e-04, -1.9525157e-04],\n",
       "        [ 1.0817587e-04, -2.3995592e-04, -5.5591547e-04, ...,\n",
       "         -3.5743686e-04,  2.8560101e-04,  7.9707352e-05],\n",
       "        ...,\n",
       "        [ 6.9903850e-04, -8.8322663e-04,  4.2410096e-04, ...,\n",
       "         -2.0534382e-03,  7.6980930e-04,  1.5570127e-03],\n",
       "        [ 9.1675343e-04, -1.1578214e-03,  5.8625638e-04, ...,\n",
       "         -2.5331164e-03,  1.2004984e-03,  1.6670950e-03],\n",
       "        [ 1.1254859e-03, -1.3935615e-03,  7.3340716e-04, ...,\n",
       "         -2.9883061e-03,  1.6076043e-03,  1.7814420e-03]],\n",
       "\n",
       "       [[-1.0429178e-05, -2.2635027e-04,  4.5041252e-06, ...,\n",
       "         -2.1242040e-04,  9.0703747e-05, -1.0811833e-04],\n",
       "        [ 1.8515196e-04, -5.8326719e-04, -1.3582782e-05, ...,\n",
       "         -4.0933921e-04,  8.5737709e-05, -1.7790514e-04],\n",
       "        [-4.0330626e-05, -5.1571330e-04, -2.9966093e-04, ...,\n",
       "         -7.4134237e-04, -1.5449102e-04,  1.9781382e-05],\n",
       "        ...,\n",
       "        [ 4.6495436e-04, -1.2165874e-03, -5.8108039e-04, ...,\n",
       "         -2.5675099e-03,  7.5655949e-04,  2.1788192e-03],\n",
       "        [ 7.0382701e-04, -1.4963999e-03, -3.4222810e-04, ...,\n",
       "         -2.9519566e-03,  1.1410534e-03,  2.2133926e-03],\n",
       "        [ 9.2814653e-04, -1.7321554e-03, -1.0198428e-04, ...,\n",
       "         -3.3263718e-03,  1.5175109e-03,  2.2618826e-03]]], dtype=float32)>"
      ]
     },
     "execution_count": 11,
     "metadata": {},
     "output_type": "execute_result"
    }
   ],
   "source": [
    "# 데이터셋에서 데이터 한 배치만 불러오는 방법입니다.\n",
    "# 지금은 동작 원리에 너무 빠져들지 마세요~\n",
    "for src_sample, tgt_sample in dataset.take(1): break\n",
    "\n",
    "# 한 배치만 불러온 데이터를 모델에 넣어봅니다\n",
    "model(src_sample)\n",
    "#70001은 덴스 출력 단어읙 ㅐ수 256은 임베당 = 배치 사이즈 LSTM 데이터셋의 max_len이 20이다."
   ]
  },
  {
   "cell_type": "code",
   "execution_count": 12,
   "id": "preceding-degree",
   "metadata": {},
   "outputs": [
    {
     "name": "stdout",
     "output_type": "stream",
     "text": [
      "Model: \"text_generator\"\n",
      "_________________________________________________________________\n",
      "Layer (type)                 Output Shape              Param #   \n",
      "=================================================================\n",
      "embedding (Embedding)        multiple                  1792256   \n",
      "_________________________________________________________________\n",
      "lstm (LSTM)                  multiple                  5246976   \n",
      "_________________________________________________________________\n",
      "lstm_1 (LSTM)                multiple                  8392704   \n",
      "_________________________________________________________________\n",
      "dense (Dense)                multiple                  7176025   \n",
      "=================================================================\n",
      "Total params: 22,607,961\n",
      "Trainable params: 22,607,961\n",
      "Non-trainable params: 0\n",
      "_________________________________________________________________\n"
     ]
    }
   ],
   "source": [
    "model.summary()"
   ]
  },
  {
   "cell_type": "code",
   "execution_count": 13,
   "id": "chronic-assignment",
   "metadata": {},
   "outputs": [
    {
     "name": "stdout",
     "output_type": "stream",
     "text": [
      "93/93 [==============================] - 34s 335ms/step - loss: 4.3734\n"
     ]
    },
    {
     "data": {
      "text/plain": [
       "<tensorflow.python.keras.callbacks.History at 0x7f316d7570d0>"
      ]
     },
     "execution_count": 13,
     "metadata": {},
     "output_type": "execute_result"
    }
   ],
   "source": [
    "# optimizer와 loss등은 차차 배웁니다\n",
    "# 혹시 미리 알고 싶다면 아래 문서를 참고하세요\n",
    "# https://www.tensorflow.org/api_docs/python/tf/keras/optimizers\n",
    "# https://www.tensorflow.org/api_docs/python/tf/keras/losses\n",
    "# 양이 상당히 많은 편이니 지금 보는 것은 추천하지 않습니다\n",
    "optimizer = tf.keras.optimizers.Adam()\n",
    "loss = tf.keras.losses.SparseCategoricalCrossentropy(\n",
    "    from_logits=True,\n",
    "    reduction='none'\n",
    ")\n",
    "\n",
    "model.compile(loss=loss, optimizer=optimizer)\n",
    "model.fit(dataset, epochs=1)"
   ]
  },
  {
   "cell_type": "code",
   "execution_count": 14,
   "id": "political-selection",
   "metadata": {},
   "outputs": [],
   "source": [
    "def generate_text(model, tokenizer, init_sentence=\"<start>\", max_len=20):\n",
    "    # 테스트를 위해서 입력받은 init_sentence도 텐서로 변환합니다\n",
    "    test_input = tokenizer.texts_to_sequences([init_sentence])\n",
    "    test_tensor = tf.convert_to_tensor(test_input, dtype=tf.int64)\n",
    "    end_token = tokenizer.word_index[\"<end>\"]\n",
    "\n",
    "    # 단어 하나씩 예측해 문장을 만듭니다\n",
    "    #    1. 입력받은 문장의 텐서를 입력합니다\n",
    "    #    2. 예측된 값 중 가장 높은 확률인 word index를 뽑아냅니다\n",
    "    #    3. 2에서 예측된 word index를 문장 뒤에 붙입니다\n",
    "    #    4. 모델이 <end>를 예측했거나, max_len에 도달했다면 문장 생성을 마칩니다\n",
    "    while True:\n",
    "        # 1\n",
    "        predict = model(test_tensor) \n",
    "        # 2\n",
    "        predict_word = tf.argmax(tf.nn.softmax(predict, axis=-1), axis=-1)[:, -1] \n",
    "        # 3 \n",
    "        test_tensor = tf.concat([test_tensor, tf.expand_dims(predict_word, axis=0)], axis=-1)\n",
    "        # 4\n",
    "        if predict_word.numpy()[0] == end_token: break\n",
    "        if test_tensor.shape[1] >= max_len: break\n",
    "\n",
    "    generated = \"\"\n",
    "    # tokenizer를 이용해 word index를 단어로 하나씩 변환합니다 \n",
    "    for word_index in test_tensor[0].numpy():\n",
    "        generated += tokenizer.index_word[word_index] + \" \"\n",
    "\n",
    "    return generated"
   ]
  },
  {
   "cell_type": "code",
   "execution_count": 15,
   "id": "working-joining",
   "metadata": {},
   "outputs": [
    {
     "data": {
      "text/plain": [
       "'<start> he , , , , , , , , , , , , <end> '"
      ]
     },
     "execution_count": 15,
     "metadata": {},
     "output_type": "execute_result"
    }
   ],
   "source": [
    "generate_text(model, tokenizer, init_sentence=\"<start> he\")"
   ]
  },
  {
   "cell_type": "code",
   "execution_count": 16,
   "id": "noted-compromise",
   "metadata": {},
   "outputs": [
    {
     "name": "stdout",
     "output_type": "stream",
     "text": [
      "데이터 크기: 187088\n",
      "Examples:\n",
      " ['[Hook]', \"I've been down so long, it look like up to me\", 'They look up to me']\n"
     ]
    }
   ],
   "source": [
    "import glob\n",
    "import os\n",
    "from sklearn.model_selection import train_test_split\n",
    "\n",
    "#================================================================\n",
    "\n",
    "txt_file_path = os.getenv('HOME')+'/aiffel/lyricist/data/lyrics/*'\n",
    "\n",
    "txt_list = glob.glob(txt_file_path)\n",
    "\n",
    "raw_corpus = []\n",
    "\n",
    "# 여러개의 txt 파일을 모두 읽어서 raw_corpus 에 담습니다.\n",
    "for txt_file in txt_list:\n",
    "    with open(txt_file, \"r\") as f:\n",
    "        raw = f.read().splitlines()\n",
    "        raw_corpus.extend(raw)\n",
    "\n",
    "print(\"데이터 크기:\", len(raw_corpus))\n",
    "print(\"Examples:\\n\", raw_corpus[:3])"
   ]
  },
  {
   "cell_type": "code",
   "execution_count": 29,
   "id": "determined-tokyo",
   "metadata": {},
   "outputs": [
    {
     "data": {
      "text/plain": [
       "['<start> hook <end>',\n",
       " '<start> they look up to me <end>',\n",
       " '<start> they look up to me <end>',\n",
       " '<start> they look up to me <end>',\n",
       " '<start> they look up to me <end>',\n",
       " '<start> they look up to me <end>',\n",
       " '<start> they look up to me <end>',\n",
       " '<start> they look up to me <end>',\n",
       " '<start> they look up to me <end>',\n",
       " '<start> they look up to me <end>',\n",
       " '<start> they look up to me <end>',\n",
       " '<start> they look up to me <end>',\n",
       " '<start> they look up to me <end>',\n",
       " '<start> skrrt intro kyla <end>',\n",
       " '<start> grips on your waist <end>',\n",
       " '<start> front way , back way <end>',\n",
       " '<start> streets not safe <end>',\n",
       " '<start> even when i m away <end>',\n",
       " '<start> i need a one dance <end>',\n",
       " '<start> i need a one dance <end>',\n",
       " '<start> tell me <end>',\n",
       " '<start> where , where , where <end>',\n",
       " '<start> where , where , where <end>',\n",
       " '<start> i need a one dance <end>',\n",
       " '<start> i need a one dance <end>',\n",
       " '<start> why you never alone <end>',\n",
       " '<start> you was in the zone <end>',\n",
       " '<start> we know , <end>',\n",
       " '<start> dom ros toast <end>',\n",
       " '<start> i drunk text j lo <end>']"
      ]
     },
     "execution_count": 29,
     "metadata": {},
     "output_type": "execute_result"
    }
   ],
   "source": [
    "corpus = []\n",
    "\n",
    "for sentence in raw_corpus:\n",
    "    # 우리가 원하지 않는 문장은 건너뜁니다 15개 이상은 건너뜀\n",
    "    if len(sentence) == 0: continue\n",
    "    if len(sentence) >= 20: continue\n",
    "    if sentence[-1] == \":\": continue\n",
    "    \n",
    "    # 정제를 하고 담아주세요\n",
    "    preprocessed_sentence = preprocess_sentence(sentence)\n",
    "    corpus.append(preprocessed_sentence)\n",
    "        \n",
    "# 정제된 결과를 10개만 확인해보죠\n",
    "corpus[:30]"
   ]
  },
  {
   "cell_type": "code",
   "execution_count": 18,
   "id": "funny-dictionary",
   "metadata": {},
   "outputs": [
    {
     "name": "stdout",
     "output_type": "stream",
     "text": [
      "[[   2  565    3 ...    0    0    0]\n",
      " [   2   67  119 ...    0    0    0]\n",
      " [   2   67  119 ...    0    0    0]\n",
      " ...\n",
      " [   2  328    3 ...    0    0    0]\n",
      " [   2  454   11 ...    0    0    0]\n",
      " [   2   11 2286 ...    0    0    0]] <keras_preprocessing.text.Tokenizer object at 0x7f316da63bd0>\n"
     ]
    }
   ],
   "source": [
    "def tokenize(corpus):\n",
    "    # 7000단어를 기억할 수 있는 tokenizer를 만들겁니다\n",
    "    # 우리는 이미 문장을 정제했으니 filters가 필요없어요\n",
    "    # 7000단어에 포함되지 못한 단어는 '<unk>'로 바꿀거에요\n",
    "    tokenizer = tf.keras.preprocessing.text.Tokenizer(\n",
    "        num_words=12000, \n",
    "        filters=' ',\n",
    "        oov_token=\"<unk>\"\n",
    "    )\n",
    "    # corpus를 이용해 tokenizer 내부의 단어장을 완성합니다\n",
    "    tokenizer.fit_on_texts(corpus)\n",
    "    # 준비한 tokenizer를 이용해 corpus를 Tensor로 변환합니다\n",
    "    tensor = tokenizer.texts_to_sequences(corpus)   \n",
    "    # 입력 데이터의 시퀀스 길이를 일정하게 맞춰줍니다\n",
    "    # 만약 시퀀스가 짧다면 문장 뒤에 패딩을 붙여 길이를 맞춰줍니다.\n",
    "    # 문장 앞에 패딩을 붙여 길이를 맞추고 싶다면 padding='pre'를 사용합니다\n",
    "    tensor = tf.keras.preprocessing.sequence.pad_sequences(tensor, padding='post')  \n",
    "    \n",
    "    print(tensor,tokenizer)\n",
    "    return tensor, tokenizer\n",
    "\n",
    "tensor, tokenizer = tokenize(corpus)"
   ]
  },
  {
   "cell_type": "code",
   "execution_count": 19,
   "id": "sorted-guess",
   "metadata": {},
   "outputs": [
    {
     "name": "stdout",
     "output_type": "stream",
     "text": [
      "1 : <unk>\n",
      "2 : <start>\n",
      "3 : <end>\n",
      "4 : i\n",
      "5 : ,\n",
      "6 : you\n",
      "7 : .\n",
      "8 : the\n",
      "9 : it\n",
      "10 : me\n",
      "11 : a\n",
      "12 : oh\n",
      "13 : and\n",
      "14 : to\n",
      "15 : s\n",
      "16 : my\n",
      "17 : t\n",
      "18 : yeah\n",
      "19 : !\n",
      "20 : in\n",
      "21 : on\n"
     ]
    }
   ],
   "source": [
    "for idx in tokenizer.index_word:\n",
    "    print(idx, \":\", tokenizer.index_word[idx])\n",
    "\n",
    "    if idx > 20: break"
   ]
  },
  {
   "cell_type": "code",
   "execution_count": 20,
   "id": "cloudy-board",
   "metadata": {},
   "outputs": [
    {
     "name": "stdout",
     "output_type": "stream",
     "text": [
      "[  2 565   3   0   0   0   0   0   0   0   0   0   0   0   0   0   0   0]\n",
      "[565   3   0   0   0   0   0   0   0   0   0   0   0   0   0   0   0   0]\n"
     ]
    }
   ],
   "source": [
    "src_input = tensor[:, :-1]  \n",
    "# tensor에서 <start>를 잘라내서 타겟 문장을 생성합니다.\n",
    "tgt_input = tensor[:, 1:]    \n",
    "\n",
    "print(src_input[0])\n",
    "print(tgt_input[0])"
   ]
  },
  {
   "cell_type": "code",
   "execution_count": 21,
   "id": "funded-europe",
   "metadata": {},
   "outputs": [
    {
     "data": {
      "text/plain": [
       "<BatchDataset shapes: ((256, 18), (256, 18)), types: (tf.int32, tf.int32)>"
      ]
     },
     "execution_count": 21,
     "metadata": {},
     "output_type": "execute_result"
    }
   ],
   "source": [
    "BUFFER_SIZE = len(src_input)\n",
    "BATCH_SIZE = 256\n",
    "steps_per_epoch = len(src_input) // BATCH_SIZE\n",
    "\n",
    " # tokenizer가 구축한 단어사전 내 7000개와, 여기 포함되지 않은 0:<pad>를 포함하여 7001개\n",
    "VOCAB_SIZE = tokenizer.num_words + 1   \n",
    "\n",
    "# 준비한 데이터 소스로부터 데이터셋을 만듭니다\n",
    "# 데이터셋에 대해서는 아래 문서를 참고하세요\n",
    "# 자세히 알아둘수록 도움이 많이 되는 중요한 문서입니다\n",
    "# https://www.tensorflow.org/api_docs/python/tf/data/Dataset\n",
    "\n",
    "\n",
    "#데이터셋 분리\n",
    "\n",
    "\n",
    "enc_train, enc_val, dec_train, dec_val = train_test_split(src_input, \n",
    "                                                          tgt_input,\n",
    "                                                          test_size=0.2,\n",
    "                                                          shuffle=True, \n",
    "                                                          random_state=16)\n",
    "\n",
    "dataset = tf.data.Dataset.from_tensor_slices((src_input, tgt_input))\n",
    "\n",
    "dataset = dataset.shuffle(BUFFER_SIZE)\n",
    "\n",
    "dataset = dataset.batch(BATCH_SIZE, drop_remainder=True)\n",
    "\n",
    "dataset"
   ]
  },
  {
   "cell_type": "code",
   "execution_count": 22,
   "id": "bottom-access",
   "metadata": {},
   "outputs": [
    {
     "name": "stdout",
     "output_type": "stream",
     "text": [
      "Source Train: (20491, 18)\n",
      "Target Train: (20491, 18)\n"
     ]
    }
   ],
   "source": [
    "print(\"Source Train:\", enc_train.shape)\n",
    "print(\"Target Train:\", dec_train.shape)\n"
   ]
  },
  {
   "cell_type": "code",
   "execution_count": 23,
   "id": "professional-purpose",
   "metadata": {},
   "outputs": [],
   "source": [
    "embedding_size = 20\n",
    "hidden_size = 1024\n",
    "model = TextGenerator(tokenizer.num_words + 1, embedding_size , hidden_size)"
   ]
  },
  {
   "cell_type": "code",
   "execution_count": 24,
   "id": "gross-acoustic",
   "metadata": {},
   "outputs": [
    {
     "data": {
      "text/plain": [
       "<tf.Tensor: shape=(256, 18, 12001), dtype=float32, numpy=\n",
       "array([[[-2.49370769e-05, -2.57131287e-05, -1.51605436e-05, ...,\n",
       "          3.97117146e-05, -5.19081623e-05, -3.89201123e-05],\n",
       "        [-8.83231769e-06, -1.44834939e-05, -1.01901365e-04, ...,\n",
       "          2.94385645e-05, -1.06332744e-04, -3.18659249e-06],\n",
       "        [ 3.92802649e-05,  1.10077526e-04, -1.79695460e-04, ...,\n",
       "          1.87213857e-06, -1.57610746e-04,  8.76423437e-05],\n",
       "        ...,\n",
       "        [ 5.94694167e-04, -6.01621461e-04, -3.59018566e-04, ...,\n",
       "         -6.86002139e-04,  1.89750805e-03,  1.51368818e-04],\n",
       "        [ 6.38517377e-04, -6.54910051e-04, -3.93135502e-04, ...,\n",
       "         -7.15013477e-04,  2.00042687e-03,  1.73410837e-04],\n",
       "        [ 6.75473304e-04, -6.99368131e-04, -4.23403864e-04, ...,\n",
       "         -7.35630165e-04,  2.08742055e-03,  1.91937186e-04]],\n",
       "\n",
       "       [[-2.49370769e-05, -2.57131287e-05, -1.51605436e-05, ...,\n",
       "          3.97117146e-05, -5.19081623e-05, -3.89201123e-05],\n",
       "        [-9.37475343e-05, -1.01676596e-04,  5.86553142e-05, ...,\n",
       "          8.24943563e-05, -4.81157585e-05, -3.74320807e-05],\n",
       "        [-1.18232238e-04, -1.16614377e-04,  4.68246362e-05, ...,\n",
       "          1.55328060e-04, -2.94436904e-05, -1.02991857e-04],\n",
       "        ...,\n",
       "        [ 5.22747228e-04, -6.43977022e-04, -2.75650033e-04, ...,\n",
       "         -7.12259673e-04,  1.83769537e-03,  1.59400442e-04],\n",
       "        [ 5.81628527e-04, -6.86071289e-04, -3.22984299e-04, ...,\n",
       "         -7.46029604e-04,  1.95585098e-03,  1.87006968e-04],\n",
       "        [ 6.31692878e-04, -7.21152290e-04, -3.65073705e-04, ...,\n",
       "         -7.68971920e-04,  2.05555116e-03,  2.08736965e-04]],\n",
       "\n",
       "       [[-2.49370769e-05, -2.57131287e-05, -1.51605436e-05, ...,\n",
       "          3.97117146e-05, -5.19081623e-05, -3.89201123e-05],\n",
       "        [-1.46614393e-05, -5.24162606e-05, -1.04161474e-04, ...,\n",
       "          2.16917142e-05, -1.96456458e-04, -1.28108240e-05],\n",
       "        [-6.59663201e-05, -1.25602150e-04, -1.00916339e-04, ...,\n",
       "         -1.34900301e-05, -2.19900321e-04,  2.60733232e-05],\n",
       "        ...,\n",
       "        [ 6.10970019e-04, -6.78987824e-04, -3.70886410e-04, ...,\n",
       "         -8.02712922e-04,  1.94269861e-03,  1.33998721e-04],\n",
       "        [ 6.60256774e-04, -7.14229885e-04, -4.05623286e-04, ...,\n",
       "         -8.19379929e-04,  2.04864936e-03,  1.59659641e-04],\n",
       "        [ 7.00800389e-04, -7.44025048e-04, -4.35628172e-04, ...,\n",
       "         -8.28214397e-04,  2.13688402e-03,  1.80757270e-04]],\n",
       "\n",
       "       ...,\n",
       "\n",
       "       [[-2.49370769e-05, -2.57131287e-05, -1.51605436e-05, ...,\n",
       "          3.97117146e-05, -5.19081623e-05, -3.89201123e-05],\n",
       "        [-5.20982794e-05,  1.85947101e-05,  9.15559099e-07, ...,\n",
       "          1.28349129e-04, -4.54625879e-05, -6.13861848e-05],\n",
       "        [-3.56226010e-05,  8.83527537e-05, -1.12334328e-05, ...,\n",
       "          1.69813764e-04, -7.88427278e-05, -4.97079463e-06],\n",
       "        ...,\n",
       "        [ 6.35050237e-04, -7.06954568e-04, -3.54609889e-04, ...,\n",
       "         -7.82106596e-04,  2.01376970e-03,  1.99107890e-04],\n",
       "        [ 6.77463016e-04, -7.39915122e-04, -3.90477653e-04, ...,\n",
       "         -7.98604218e-04,  2.10178969e-03,  2.12621453e-04],\n",
       "        [ 7.12292618e-04, -7.67023885e-04, -4.20975819e-04, ...,\n",
       "         -8.07537464e-04,  2.17545056e-03,  2.23681738e-04]],\n",
       "\n",
       "       [[-2.49370769e-05, -2.57131287e-05, -1.51605436e-05, ...,\n",
       "          3.97117146e-05, -5.19081623e-05, -3.89201123e-05],\n",
       "        [-1.26488862e-06,  2.13821968e-05, -9.96282761e-05, ...,\n",
       "          6.42313098e-05, -1.12101327e-04, -1.87654605e-05],\n",
       "        [ 6.93419588e-06,  1.54664478e-04, -1.52897919e-04, ...,\n",
       "          1.06734849e-04, -2.29051904e-04,  2.98628274e-05],\n",
       "        ...,\n",
       "        [ 4.48572158e-04, -5.16721979e-04, -1.37329407e-04, ...,\n",
       "         -5.75080456e-04,  1.58905168e-03,  1.12055124e-04],\n",
       "        [ 5.18928806e-04, -5.93367266e-04, -1.87164493e-04, ...,\n",
       "         -6.34354481e-04,  1.74141338e-03,  1.43559824e-04],\n",
       "        [ 5.80371998e-04, -6.56733580e-04, -2.35507687e-04, ...,\n",
       "         -6.79138815e-04,  1.87120214e-03,  1.70648345e-04]],\n",
       "\n",
       "       [[-2.49370769e-05, -2.57131287e-05, -1.51605436e-05, ...,\n",
       "          3.97117146e-05, -5.19081623e-05, -3.89201123e-05],\n",
       "        [-7.69957041e-05, -4.86541285e-05, -1.55438320e-05, ...,\n",
       "          1.42042511e-04, -1.54958281e-04, -3.02670978e-05],\n",
       "        [-1.69979627e-04, -2.81774992e-05, -2.11606766e-05, ...,\n",
       "          3.38617130e-04, -2.08840385e-04, -1.37830488e-04],\n",
       "        ...,\n",
       "        [ 6.37503748e-04, -7.62411044e-04, -3.85908701e-04, ...,\n",
       "         -7.82745250e-04,  2.16197013e-03,  2.02332812e-04],\n",
       "        [ 6.80142955e-04, -7.87317462e-04, -4.16009541e-04, ...,\n",
       "         -7.94976077e-04,  2.23172549e-03,  2.13851454e-04],\n",
       "        [ 7.14533264e-04, -8.07603821e-04, -4.41263401e-04, ...,\n",
       "         -8.00994923e-04,  2.28857389e-03,  2.23424184e-04]]],\n",
       "      dtype=float32)>"
      ]
     },
     "execution_count": 24,
     "metadata": {},
     "output_type": "execute_result"
    }
   ],
   "source": [
    "for src_sample, tgt_sample in dataset.take(1): break\n",
    "\n",
    "# 한 배치만 불러온 데이터를 모델에 넣어봅니다\n",
    "model(src_sample)"
   ]
  },
  {
   "cell_type": "code",
   "execution_count": 25,
   "id": "persistent-priest",
   "metadata": {},
   "outputs": [
    {
     "name": "stdout",
     "output_type": "stream",
     "text": [
      "Model: \"text_generator_1\"\n",
      "_________________________________________________________________\n",
      "Layer (type)                 Output Shape              Param #   \n",
      "=================================================================\n",
      "embedding_1 (Embedding)      multiple                  240020    \n",
      "_________________________________________________________________\n",
      "lstm_2 (LSTM)                multiple                  4280320   \n",
      "_________________________________________________________________\n",
      "lstm_3 (LSTM)                multiple                  8392704   \n",
      "_________________________________________________________________\n",
      "dense_1 (Dense)              multiple                  12301025  \n",
      "=================================================================\n",
      "Total params: 25,214,069\n",
      "Trainable params: 25,214,069\n",
      "Non-trainable params: 0\n",
      "_________________________________________________________________\n"
     ]
    }
   ],
   "source": [
    "model.summary()"
   ]
  },
  {
   "cell_type": "code",
   "execution_count": 26,
   "id": "breathing-carbon",
   "metadata": {},
   "outputs": [],
   "source": [
    "optimizer = tf.keras.optimizers.Adam()\n",
    "loss = tf.keras.losses.SparseCategoricalCrossentropy(\n",
    "    from_logits=True,\n",
    "    reduction='none'\n",
    ")\n",
    "\n",
    "model.compile(loss=loss, optimizer=optimizer)\n",
    "\n"
   ]
  },
  {
   "cell_type": "code",
   "execution_count": 27,
   "id": "diverse-constant",
   "metadata": {},
   "outputs": [
    {
     "name": "stdout",
     "output_type": "stream",
     "text": [
      "Epoch 1/10\n",
      "81/81 [==============================] - 34s 386ms/step - loss: 3.5269 - val_loss: 1.5866\n",
      "Epoch 2/10\n",
      "81/81 [==============================] - 30s 374ms/step - loss: 1.5029 - val_loss: 1.4143\n",
      "Epoch 3/10\n",
      "81/81 [==============================] - 30s 375ms/step - loss: 1.3109 - val_loss: 1.2686\n",
      "Epoch 4/10\n",
      "81/81 [==============================] - 30s 375ms/step - loss: 1.2242 - val_loss: 1.2428\n",
      "Epoch 5/10\n",
      "81/81 [==============================] - 30s 375ms/step - loss: 1.1902 - val_loss: 1.2272\n",
      "Epoch 6/10\n",
      "81/81 [==============================] - 30s 375ms/step - loss: 1.1638 - val_loss: 1.2163\n",
      "Epoch 7/10\n",
      "81/81 [==============================] - 30s 374ms/step - loss: 1.1529 - val_loss: 1.2060\n",
      "Epoch 8/10\n",
      "81/81 [==============================] - 30s 375ms/step - loss: 1.1307 - val_loss: 1.1980\n",
      "Epoch 9/10\n",
      "81/81 [==============================] - 30s 375ms/step - loss: 1.1442 - val_loss: 1.2263\n",
      "Epoch 10/10\n",
      "81/81 [==============================] - 30s 376ms/step - loss: 1.1329 - val_loss: 1.1875\n"
     ]
    },
    {
     "data": {
      "text/plain": [
       "<tensorflow.python.keras.callbacks.History at 0x7f316d71b210>"
      ]
     },
     "execution_count": 27,
     "metadata": {},
     "output_type": "execute_result"
    }
   ],
   "source": [
    "model.fit(enc_train, dec_train, epochs=10,batch_size=256, validation_data=(enc_val, dec_val),verbose=1)\n"
   ]
  },
  {
   "cell_type": "code",
   "execution_count": 28,
   "id": "smooth-prior",
   "metadata": {},
   "outputs": [
    {
     "data": {
      "text/plain": [
       "'<start> i love it <end> '"
      ]
     },
     "execution_count": 28,
     "metadata": {},
     "output_type": "execute_result"
    }
   ],
   "source": [
    "generate_text(model, tokenizer, init_sentence=\"<start> i love\", max_len=20)"
   ]
  },
  {
   "cell_type": "code",
   "execution_count": null,
   "id": "revolutionary-continuity",
   "metadata": {},
   "outputs": [],
   "source": []
  }
 ],
 "metadata": {
  "kernelspec": {
   "display_name": "Python 3",
   "language": "python",
   "name": "python3"
  },
  "language_info": {
   "codemirror_mode": {
    "name": "ipython",
    "version": 3
   },
   "file_extension": ".py",
   "mimetype": "text/x-python",
   "name": "python",
   "nbconvert_exporter": "python",
   "pygments_lexer": "ipython3",
   "version": "3.7.9"
  }
 },
 "nbformat": 4,
 "nbformat_minor": 5
}
