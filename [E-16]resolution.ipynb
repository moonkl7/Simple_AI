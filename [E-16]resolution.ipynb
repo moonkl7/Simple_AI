{
 "cells": [
  {
   "cell_type": "code",
   "execution_count": null,
   "metadata": {},
   "outputs": [],
   "source": [
    "import cv2\n",
    "\n",
    "# 다운받은 파일의 경로를 설정해 주세요.\n",
    "gif = cv2.VideoCapture(\"저해상도.gif\")\n",
    "\n",
    "isTrue = True\n",
    "frames = []\n",
    "while isTrue:\n",
    "    isTrue, frame = gif.read()\n",
    "    if isTrue:\n",
    "        frame = cv2.cvtColor(frame, cv2.COLOR_BGR2RGB)\n",
    "        frames.append(frame)\n",
    "\n",
    "print(\"frame 수 :\", len(frames))\n",
    "print(\"frame 크기 :\", (frames[0].shape))"
   ]
  }
 ],
 "metadata": {
  "language_info": {
   "name": "python"
  },
  "orig_nbformat": 4
 },
 "nbformat": 4,
 "nbformat_minor": 2
}
